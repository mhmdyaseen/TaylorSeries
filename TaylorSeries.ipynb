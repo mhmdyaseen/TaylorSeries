{
  "cells": [
    {
      "cell_type": "markdown",
      "source": [
        "### Problem Statement:\n",
        "Task 1: Generate datasets of functions with their Taylor expansions up the fourth order. Tokenize the dataset.\n",
        "\n",
        "Task 2: Train an LSTM model to learn the Taylor expansion of each function.\n",
        "\n",
        "Task 3: Similarly Train a Transformer  model to learn the Taylor expansion of each function."
      ],
      "metadata": {
        "id": "nWe7NEztx9NC"
      }
    },
    {
      "cell_type": "code",
      "execution_count": null,
      "metadata": {
        "id": "hlKxjIknQtHr"
      },
      "outputs": [],
      "source": [
        "import re\n",
        "import random\n",
        "import math\n",
        "import numpy as np\n",
        "import torch\n",
        "from sympy import *\n",
        "from tqdm import tqdm\n",
        "import tokenize\n",
        "from io import StringIO\n",
        "from torch import nn\n",
        "from torch.autograd import Variable\n",
        "import pandas as pd\n",
        "import torch.nn.functional as F"
      ]
    },
    {
      "cell_type": "code",
      "source": [
        "class MathExpression:\n",
        "    operations = {\n",
        "        'sin': 1, 'cos': 1, 'tan': 1, 'square': 1, 'cube': 1, 'exp': 1, 'log': 1,\n",
        "        '+': 2, '-': 2, '*': 2, '/': 2, '**': 2\n",
        "    }\n",
        "\n",
        "    infix_notation = {\n",
        "        'sin': lambda a: f'sin({a[0]})',\n",
        "        'cos': lambda a: f'cos({a[0]})',\n",
        "        'tan': lambda a: f'tan({a[0]})',\n",
        "        'square': lambda a: f'({a[0]})**2',\n",
        "        'cube': lambda a: f'({a[0]})**3',\n",
        "        'exp': lambda a: f'exp({a[0]})',\n",
        "        'log': lambda a: f'log({a[0]})',\n",
        "        '+': lambda a: f'({a[0]})+({a[1]})',\n",
        "        '-': lambda a: f'({a[0]})-({a[1]})',\n",
        "        '*': lambda a: f'({a[0]})*({a[1]})',\n",
        "        '/': lambda a: f'({a[0]})/({a[1]})',\n",
        "        '**': lambda a: f'({a[0]})**({a[1]})'\n",
        "    }\n",
        "\n",
        "    unary_probabilities = {'sin': 1, 'cos': 1, 'tan': 2, 'square': 4, 'cube': 3, 'exp': 2, 'log': 1}\n",
        "    binary_probabilities = {'+': 3, '-': 3, '*': 2, '/': 2, '**': 1}\n",
        "    sympy_to_ops = {sin: 'sin', cos: 'cos', tan: 'tan', exp: 'exp', log: 'log', Add: '+', Mul: '*', Pow: '**'}\n",
        "\n",
        "    def unary_binary_dist(self, size):\n",
        "        max_e = size * 2\n",
        "        D = np.zeros((max_e + 2, size + 1))\n",
        "        D[:, 0] = (self._num_leaves ** np.arange(max_e + 2))\n",
        "        D[0, 0] = 0\n",
        "\n",
        "        for n in range(1, size + 1):\n",
        "            for e in range(1, max_e + 1):\n",
        "                D[e, n] = (self._num_leaves * D[e-1, n] +\n",
        "                           self._num_unary_ops * D[e, n-1] +\n",
        "                           self._num_bin_ops * D[e+1, n-1])\n",
        "        return D[:max_e + 1, :size + 1]\n",
        "\n",
        "    def sample(self, e, n):\n",
        "        P = np.zeros((e, 2))\n",
        "        k_vals = np.arange(e)\n",
        "        P[:, 0] = (self._num_leaves ** k_vals) * self._num_unary_ops * self._unary_binary_dist[e - k_vals, n-1]\n",
        "        P[:, 1] = (self._num_leaves ** k_vals) * self._num_bin_ops * self._unary_binary_dist[e - k_vals + 1, n-1]\n",
        "        P_flat = P.T.flatten()\n",
        "        P_flat /= P_flat.sum()\n",
        "        k = np.random.choice(2 * e, p=P_flat)\n",
        "        return k % e, 1 if k < e else 2\n",
        "\n",
        "    def choose_unary_op(self):\n",
        "        ops, probs = zip(*self.unary_probabilities.items())\n",
        "        probs = np.array(probs) / sum(probs)\n",
        "        return np.random.choice(ops, p=probs)\n",
        "\n",
        "    def choose_bin_op(self):\n",
        "        ops, probs = zip(*self.binary_probabilities.items())\n",
        "        probs = np.array(probs) / sum(probs)\n",
        "        return np.random.choice(ops, p=probs)\n",
        "\n",
        "    def choose_leaf(self):\n",
        "        return 'x' if random.random() < 0.3 else random.randint(0, 9)\n",
        "\n",
        "    def gen_from_sympy(self, expr):\n",
        "        self._rep = []\n",
        "        stack = [expr]\n",
        "        while stack:\n",
        "            curr = stack.pop()\n",
        "            if isinstance(curr, (Symbol, Integer)):\n",
        "                self._rep.append(str(curr))\n",
        "            elif isinstance(curr, Rational):\n",
        "                self._rep.extend(['/', str(curr.p), str(curr.q)])\n",
        "            elif curr in [E, pi, I]:\n",
        "                self._rep.append(str(curr).lower())\n",
        "            else:\n",
        "                op = self.sympy_to_ops.get(type(curr), None)\n",
        "                if op:\n",
        "                    args = curr.args\n",
        "                    self._rep.extend([op] * (len(args) - 1))\n",
        "                    stack.extend(reversed(args))\n",
        "\n",
        "    def gen_random(self, num_ops):\n",
        "        self._num_leaves = 1\n",
        "        self._num_bin_ops = len(self.binary_probabilities)\n",
        "        self._num_unary_ops = len(self.unary_probabilities)\n",
        "        self._unary_binary_dist = self.unary_binary_dist(num_ops + 1)\n",
        "\n",
        "        rep = [None]\n",
        "        e = 1\n",
        "        skipped_total = 0\n",
        "        for n in range(num_ops, 0, -1):\n",
        "            k, arity = self.sample(e, n)\n",
        "            skipped_total += k\n",
        "            none_indices = [i for i, x in enumerate(rep) if x is None]\n",
        "            pos = none_indices[skipped_total]\n",
        "            op = self.choose_unary_op() if arity == 1 else self.choose_bin_op()\n",
        "            new_elems = [op] + [None] * arity\n",
        "            rep[pos:pos+1] = new_elems\n",
        "            e = e - k + (0 if arity == 1 else 1)\n",
        "            skipped_total = 0\n",
        "\n",
        "        for i in range(len(rep)):\n",
        "            if rep[i] is None:\n",
        "                rep[i] = self.choose_leaf()\n",
        "        self._rep = rep\n",
        "\n",
        "    def __init__(self, expr=None, num_ops=None):\n",
        "        if expr is not None:\n",
        "            self.gen_from_sympy(expr)\n",
        "        else:\n",
        "            self.gen_random(num_ops)\n",
        "\n",
        "    def to_infix(self):\n",
        "        stack = []\n",
        "        for token in reversed(self._rep):\n",
        "            if token in self.operations:\n",
        "                args = [stack.pop() for _ in range(self.operations[token])]\n",
        "                stack.append(self.infix_notation[token](args[::-1]))\n",
        "            else:\n",
        "                stack.append(str(token))\n",
        "        return stack[0]\n",
        "\n",
        "    def get_rep(self):\n",
        "        return self._rep"
      ],
      "metadata": {
        "id": "TgS9i1qD-naA"
      },
      "execution_count": null,
      "outputs": []
    },
    {
      "cell_type": "code",
      "source": [
        "def taylor_series(f_str, a, order):\n",
        "    x = symbols('x')\n",
        "    f = parse_expr(f_str)\n",
        "    taylor = f.subs(x, a)\n",
        "    for i in range(1, order + 1):\n",
        "        f = diff(f, x)\n",
        "        term = (f * (x - a)**i) / factorial(i)\n",
        "        taylor += term\n",
        "    return taylor.expand()\n",
        "\n",
        "def gen_pair(ops=3):\n",
        "    expr = MathExpression(num_ops=ops)\n",
        "    tay = taylor_series(expr.to_infix(), Symbol('a'), 4)\n",
        "    return expr, MathExpression(expr=tay)"
      ],
      "metadata": {
        "id": "G6jNK8uJ-pL2"
      },
      "execution_count": null,
      "outputs": []
    },
    {
      "cell_type": "code",
      "source": [
        "class FunctionDataset(torch.utils.data.Dataset):\n",
        "    def __init__(self, ops=3, max_seq_length=32, num_items=100):\n",
        "        self.max_seq = max_seq_length\n",
        "        self.data = []\n",
        "        while len(self.data) < num_items:\n",
        "            src, tgt = gen_pair(ops)\n",
        "            src_rep = ['<SOS>'] + src.get_rep() + ['<EOS>']\n",
        "            tgt_rep = ['<SOS>'] + tgt.get_rep() + ['<EOS>']\n",
        "            if len(src_rep) <= max_seq_length and len(tgt_rep) <= max_seq_length:\n",
        "                self.data.append((src_rep, tgt_rep))\n",
        "\n",
        "        all_tokens = set(token for pair in self.data for expr in pair for token in expr)\n",
        "        self.vocab = {'<PAD>': 0}\n",
        "        self.vocab.update({token: i+1 for i, token in enumerate(all_tokens)})\n",
        "\n",
        "        self.inputs = []\n",
        "        self.targets = []\n",
        "        for src, tgt in self.data:\n",
        "            src_ids = [self.vocab.get(t, 0) for t in src] + [0] * (max_seq_length - len(src))\n",
        "            tgt_ids = [self.vocab.get(t, 0) for t in tgt] + [0] * (max_seq_length - len(tgt))\n",
        "            self.inputs.append(torch.LongTensor(src_ids))\n",
        "            self.targets.append(torch.LongTensor(tgt_ids))\n",
        "\n",
        "    def __len__(self):\n",
        "        return len(self.inputs)\n",
        "\n",
        "    def __getitem__(self, idx):\n",
        "        return self.inputs[idx], self.targets[idx]\n",
        "\n",
        "    def get_vocab(self):\n",
        "        return self.vocab\n",
        "    def get_alphabet(self):\n",
        "        return self.vocab"
      ],
      "metadata": {
        "id": "NN5FERN1-4fD"
      },
      "execution_count": null,
      "outputs": []
    },
    {
      "cell_type": "code",
      "source": [
        "device = torch.device('cuda' if torch.cuda.is_available() else 'cpu')\n",
        "d = FunctionDataset(num_items=500)\n",
        "train_size = int(0.9 * len(d))\n",
        "train_dataset, test_dataset = torch.utils.data.random_split(d, [train_size, len(d)-train_size])"
      ],
      "metadata": {
        "id": "U8rXEhdc-6VP"
      },
      "execution_count": null,
      "outputs": []
    },
    {
      "cell_type": "code",
      "source": [
        "class Encoder(nn.Module):\n",
        "  def __init__(self, vocab_size, embedding_dim=512, num_layers=2, hidden_size=512, dropout=0.2):\n",
        "    super(Encoder, self).__init__()\n",
        "    self.embedding_dim = embedding_dim\n",
        "    self.num_layers = num_layers\n",
        "    self.hidden_size = hidden_size\n",
        "\n",
        "    self.embedding = nn.Embedding(\n",
        "        num_embeddings=vocab_size,\n",
        "        embedding_dim=self.embedding_dim\n",
        "    )\n",
        "    self.lstm = nn.LSTM(\n",
        "        input_size=self.embedding_dim,\n",
        "        hidden_size=self.hidden_size,\n",
        "        num_layers=self.num_layers,\n",
        "        dropout=dropout,\n",
        "    )\n",
        "\n",
        "  def forward(self, x):\n",
        "    embed = self.embedding(x)\n",
        "    output, (h,c) = self.lstm(embed)\n",
        "    return h, c\n",
        "\n",
        "class Decoder(nn.Module):\n",
        "  def __init__(self, vocab_size, embedding_dim=512, num_layers=2, hidden_size=512, dropout=0.2):\n",
        "    super(Decoder, self).__init__()\n",
        "    self.embedding_dim = embedding_dim\n",
        "    self.num_layers = num_layers\n",
        "    self.output_size = vocab_size\n",
        "    self.hidden_size = hidden_size\n",
        "\n",
        "    self.embedding = nn.Embedding(\n",
        "        num_embeddings=vocab_size,\n",
        "        embedding_dim=self.embedding_dim\n",
        "    )\n",
        "    self.lstm = nn.LSTM(\n",
        "        input_size=self.embedding_dim,\n",
        "        hidden_size=self.hidden_size,\n",
        "        num_layers=self.num_layers,\n",
        "        dropout=0.2,\n",
        "    )\n",
        "    self.out = nn.Linear(self.hidden_size, self.output_size)\n",
        "    self.softmax = nn.LogSoftmax(dim=2)\n",
        "    self.to(device)\n",
        "\n",
        "  def forward(self, input, h_0, c_0):\n",
        "    embedded = self.embedding(input.unsqueeze(0))\n",
        "    output, (h,c) = self.lstm(embedded, (h_0, c_0))\n",
        "    output = self.out(output)\n",
        "    output = self.softmax(output)\n",
        "    return output.squeeze(0), h , c"
      ],
      "metadata": {
        "id": "DB0itQ6LA3tb"
      },
      "execution_count": null,
      "outputs": []
    },
    {
      "cell_type": "code",
      "source": [
        "class Model(nn.Module):\n",
        "  def __init__(self, encoder, decoder):\n",
        "    super(Model, self).__init__()\n",
        "    self.encoder = encoder\n",
        "    self.decoder = decoder\n",
        "    self.to(device)\n",
        "\n",
        "  def forward(self, input, tgt=None):\n",
        "    if len(input.shape) < 2:\n",
        "        input = input.unsqueeze(1)\n",
        "    batch_size = input.shape[1]\n",
        "    h, c = enc(input)\n",
        "    target = torch.zeros(batch_size, dtype=torch.long).to(device)\n",
        "    if tgt is None:\n",
        "      max_seq_length = input.shape[0]\n",
        "      target[:] = d.token_to_idx['<SOS>']\n",
        "    else:\n",
        "      max_seq_length = tgt.shape[1]\n",
        "      target[:] = tgt[:,0]\n",
        "    outputs = torch.zeros(max_seq_length, batch_size, dec.output_size, dtype=torch.float).to(device)\n",
        "    for i in range(max_seq_length):\n",
        "        prediction, h, c = dec(target, h, c)\n",
        "        outputs[i] = prediction\n",
        "        if tgt is None:\n",
        "          target = prediction.argmax(dim=1)\n",
        "        else:\n",
        "          target = tgt[:,i]\n",
        "    return outputs"
      ],
      "metadata": {
        "id": "frWL7faaA7SG"
      },
      "execution_count": null,
      "outputs": []
    },
    {
      "cell_type": "code",
      "source": [
        "enc = Encoder(len(d.get_alphabet()) + 1)\n",
        "dec = Decoder(len(d.get_alphabet()) + 1)\n",
        "m = Model(enc,dec).to(device)"
      ],
      "metadata": {
        "id": "fOHCvv6IA9C0"
      },
      "execution_count": null,
      "outputs": []
    },
    {
      "cell_type": "code",
      "source": [
        "def test_epoch_LSTM(model, test_loader, criterion, batch_size=4):\n",
        "  model.eval()\n",
        "  total_loss = 0\n",
        "  total_items = 0\n",
        "  num_correct = 0\n",
        "  for src, tgt in tqdm(test_loader):\n",
        "    src = src.to(device)\n",
        "    tgt = tgt.to(device)\n",
        "\n",
        "    pred = model(src.squeeze().T, tgt=tgt[:,:-1])\n",
        "    pred = pred.permute((1,2,0))\n",
        "    tgt_out = tgt[:,1:]\n",
        "\n",
        "    loss = criterion(pred, tgt_out)\n",
        "\n",
        "    total_loss += loss.item()\n",
        "    total_items += (tgt_out != 0).sum(dim=(0,1))\n",
        "\n",
        "    num_correct += (torch.logical_and((logits.argmax(dim=2) == tgt_out), (tgt_out != 0))).sum(dim=(0,1))\n",
        "  return total_loss, num_correct / total_items\n",
        "\n",
        "def train_epoch_LSTM(model, train_loader, optimizer, criterion, batch_size=4):\n",
        "  model.train()\n",
        "  total_loss = 0\n",
        "  total_items = 0\n",
        "  num_correct = 0\n",
        "  for src, tgt in tqdm(train_loader):\n",
        "    src = src.to(device)\n",
        "    tgt = tgt.to(device)\n",
        "\n",
        "    pred = model(src.squeeze().T,tgt=tgt[:,:-1])\n",
        "\n",
        "    pred = pred.permute((1,2,0))\n",
        "    tgt_out = tgt[:,1:]\n",
        "    loss = criterion(pred, tgt_out)\n",
        "\n",
        "    optimizer.zero_grad()\n",
        "    loss.backward()\n",
        "    optimizer.step()\n",
        "\n",
        "    total_loss += loss.item()\n",
        "    total_items += (tgt_out != 0).sum(dim=(0,1))\n",
        "\n",
        "    num_correct += (torch.logical_and((pred.argmax(dim=1) == tgt_out), (tgt_out != 0))).sum(dim=(0,1))\n",
        "  return total_loss, num_correct / total_items\n",
        "\n",
        "def train_LSTM(model, train_dataset,  test_dataset, batch_size=32, epochs=100):\n",
        "  train_loader = torch.utils.data.DataLoader(train_dataset, batch_size=batch_size, shuffle=True)\n",
        "  test_loader = torch.utils.data.DataLoader(test_dataset, batch_size=batch_size, shuffle=True)\n",
        "  criterion = nn.CrossEntropyLoss()\n",
        "\n",
        "\n",
        "  optim = torch.optim.Adam(model.parameters(), lr=1e-3)\n",
        "  for e in range(epochs):\n",
        "    train_loss, train_acc = train_epoch_LSTM(model, train_loader, optim, criterion, batch_size=batch_size)\n",
        "    test_loss, test_acc = train_epoch_LSTM(model, test_loader, optim, criterion, batch_size=batch_size)\n",
        "    print(f'Epoch: {e + 1} Training Loss: {train_loss} Training Accuracy: {train_acc} Test Loss: {test_loss} Test Accuracy: {test_acc}')"
      ],
      "metadata": {
        "id": "ZQt7CcW_CuDN"
      },
      "execution_count": null,
      "outputs": []
    },
    {
      "cell_type": "code",
      "source": [
        "train_LSTM(m, train_dataset, test_dataset, batch_size=32)"
      ],
      "metadata": {
        "colab": {
          "base_uri": "https://localhost:8080/"
        },
        "id": "Zba_z-cRCwFH",
        "outputId": "0cb3e751-30c0-4e87-eb0b-5da7a6412dce"
      },
      "execution_count": null,
      "outputs": [
        {
          "output_type": "stream",
          "name": "stderr",
          "text": [
            "100%|██████████| 15/15 [00:01<00:00, 12.48it/s]\n",
            "100%|██████████| 2/2 [00:00<00:00, 16.12it/s]\n"
          ]
        },
        {
          "output_type": "stream",
          "name": "stdout",
          "text": [
            "Epoch: 1 Training Loss: 23.17210751771927 Training Accuracy: 0.05978068709373474 Test Loss: 1.4430557489395142 Test Accuracy: 0.0917721539735794\n"
          ]
        },
        {
          "output_type": "stream",
          "name": "stderr",
          "text": [
            "100%|██████████| 15/15 [00:00<00:00, 16.87it/s]\n",
            "100%|██████████| 2/2 [00:00<00:00, 17.24it/s]\n"
          ]
        },
        {
          "output_type": "stream",
          "name": "stdout",
          "text": [
            "Epoch: 2 Training Loss: 9.684578090906143 Training Accuracy: 0.16413158178329468 Test Loss: 1.2323780059814453 Test Accuracy: 0.2278480976819992\n"
          ]
        },
        {
          "output_type": "stream",
          "name": "stderr",
          "text": [
            "100%|██████████| 15/15 [00:00<00:00, 16.94it/s]\n",
            "100%|██████████| 2/2 [00:00<00:00, 17.55it/s]\n"
          ]
        },
        {
          "output_type": "stream",
          "name": "stdout",
          "text": [
            "Epoch: 3 Training Loss: 8.879249095916748 Training Accuracy: 0.33569154143333435 Test Loss: 1.2321085631847382 Test Accuracy: 0.3639240562915802\n"
          ]
        },
        {
          "output_type": "stream",
          "name": "stderr",
          "text": [
            "100%|██████████| 15/15 [00:00<00:00, 16.85it/s]\n",
            "100%|██████████| 2/2 [00:00<00:00, 17.25it/s]\n"
          ]
        },
        {
          "output_type": "stream",
          "name": "stdout",
          "text": [
            "Epoch: 4 Training Loss: 7.683849483728409 Training Accuracy: 0.4163424074649811 Test Loss: 1.0423645377159119 Test Accuracy: 0.42721518874168396\n"
          ]
        },
        {
          "output_type": "stream",
          "name": "stderr",
          "text": [
            "100%|██████████| 15/15 [00:00<00:00, 16.77it/s]\n",
            "100%|██████████| 2/2 [00:00<00:00, 16.90it/s]\n"
          ]
        },
        {
          "output_type": "stream",
          "name": "stdout",
          "text": [
            "Epoch: 5 Training Loss: 7.06634846329689 Training Accuracy: 0.46338874101638794 Test Loss: 1.0176019966602325 Test Accuracy: 0.43670886754989624\n"
          ]
        },
        {
          "output_type": "stream",
          "name": "stderr",
          "text": [
            "100%|██████████| 15/15 [00:00<00:00, 16.94it/s]\n",
            "100%|██████████| 2/2 [00:00<00:00, 17.23it/s]\n"
          ]
        },
        {
          "output_type": "stream",
          "name": "stdout",
          "text": [
            "Epoch: 6 Training Loss: 6.639508962631226 Training Accuracy: 0.485320121049881 Test Loss: 0.9513146281242371 Test Accuracy: 0.452531635761261\n"
          ]
        },
        {
          "output_type": "stream",
          "name": "stderr",
          "text": [
            "100%|██████████| 15/15 [00:01<00:00, 11.90it/s]\n",
            "100%|██████████| 2/2 [00:00<00:00, 11.79it/s]\n"
          ]
        },
        {
          "output_type": "stream",
          "name": "stdout",
          "text": [
            "Epoch: 7 Training Loss: 6.3657273054122925 Training Accuracy: 0.5132649540901184 Test Loss: 0.8951953053474426 Test Accuracy: 0.474683552980423\n"
          ]
        },
        {
          "output_type": "stream",
          "name": "stderr",
          "text": [
            "100%|██████████| 15/15 [00:01<00:00, 13.09it/s]\n",
            "100%|██████████| 2/2 [00:00<00:00, 17.91it/s]\n"
          ]
        },
        {
          "output_type": "stream",
          "name": "stdout",
          "text": [
            "Epoch: 8 Training Loss: 6.160875976085663 Training Accuracy: 0.5274142026901245 Test Loss: 0.838809609413147 Test Accuracy: 0.4905063211917877\n"
          ]
        },
        {
          "output_type": "stream",
          "name": "stderr",
          "text": [
            "100%|██████████| 15/15 [00:00<00:00, 16.86it/s]\n",
            "100%|██████████| 2/2 [00:00<00:00, 17.85it/s]\n"
          ]
        },
        {
          "output_type": "stream",
          "name": "stdout",
          "text": [
            "Epoch: 9 Training Loss: 6.166071176528931 Training Accuracy: 0.5447470545768738 Test Loss: 0.8958266079425812 Test Accuracy: 0.5\n"
          ]
        },
        {
          "output_type": "stream",
          "name": "stderr",
          "text": [
            "100%|██████████| 15/15 [00:00<00:00, 16.44it/s]\n",
            "100%|██████████| 2/2 [00:00<00:00, 16.61it/s]\n"
          ]
        },
        {
          "output_type": "stream",
          "name": "stdout",
          "text": [
            "Epoch: 10 Training Loss: 6.4832653403282166 Training Accuracy: 0.5458082556724548 Test Loss: 0.8859668672084808 Test Accuracy: 0.503164529800415\n"
          ]
        },
        {
          "output_type": "stream",
          "name": "stderr",
          "text": [
            "100%|██████████| 15/15 [00:00<00:00, 17.06it/s]\n",
            "100%|██████████| 2/2 [00:00<00:00, 16.96it/s]\n"
          ]
        },
        {
          "output_type": "stream",
          "name": "stdout",
          "text": [
            "Epoch: 11 Training Loss: 5.892133116722107 Training Accuracy: 0.5461620092391968 Test Loss: 0.8361568748950958 Test Accuracy: 0.5158227682113647\n"
          ]
        },
        {
          "output_type": "stream",
          "name": "stderr",
          "text": [
            "100%|██████████| 15/15 [00:00<00:00, 17.19it/s]\n",
            "100%|██████████| 2/2 [00:00<00:00, 16.29it/s]\n"
          ]
        },
        {
          "output_type": "stream",
          "name": "stdout",
          "text": [
            "Epoch: 12 Training Loss: 5.592693477869034 Training Accuracy: 0.5642023086547852 Test Loss: 0.7784326374530792 Test Accuracy: 0.5348101258277893\n"
          ]
        },
        {
          "output_type": "stream",
          "name": "stderr",
          "text": [
            "100%|██████████| 15/15 [00:00<00:00, 17.01it/s]\n",
            "100%|██████████| 2/2 [00:00<00:00, 16.08it/s]\n"
          ]
        },
        {
          "output_type": "stream",
          "name": "stdout",
          "text": [
            "Epoch: 13 Training Loss: 5.547985315322876 Training Accuracy: 0.5794128179550171 Test Loss: 0.8149541914463043 Test Accuracy: 0.5316455960273743\n"
          ]
        },
        {
          "output_type": "stream",
          "name": "stderr",
          "text": [
            "100%|██████████| 15/15 [00:00<00:00, 16.81it/s]\n",
            "100%|██████████| 2/2 [00:00<00:00, 16.28it/s]\n"
          ]
        },
        {
          "output_type": "stream",
          "name": "stdout",
          "text": [
            "Epoch: 14 Training Loss: 5.271307989954948 Training Accuracy: 0.5953307151794434 Test Loss: 0.7655770480632782 Test Accuracy: 0.5537974834442139\n"
          ]
        },
        {
          "output_type": "stream",
          "name": "stderr",
          "text": [
            "100%|██████████| 15/15 [00:00<00:00, 16.84it/s]\n",
            "100%|██████████| 2/2 [00:00<00:00, 16.37it/s]\n"
          ]
        },
        {
          "output_type": "stream",
          "name": "stdout",
          "text": [
            "Epoch: 15 Training Loss: 5.0963268876075745 Training Accuracy: 0.6084188222885132 Test Loss: 0.7226317822933197 Test Accuracy: 0.5664557218551636\n"
          ]
        },
        {
          "output_type": "stream",
          "name": "stderr",
          "text": [
            "100%|██████████| 15/15 [00:00<00:00, 16.80it/s]\n",
            "100%|██████████| 2/2 [00:00<00:00, 16.09it/s]\n"
          ]
        },
        {
          "output_type": "stream",
          "name": "stdout",
          "text": [
            "Epoch: 16 Training Loss: 5.02226784825325 Training Accuracy: 0.6059426665306091 Test Loss: 0.6910622715950012 Test Accuracy: 0.5696202516555786\n"
          ]
        },
        {
          "output_type": "stream",
          "name": "stderr",
          "text": [
            "100%|██████████| 15/15 [00:00<00:00, 16.65it/s]\n",
            "100%|██████████| 2/2 [00:00<00:00, 17.27it/s]\n"
          ]
        },
        {
          "output_type": "stream",
          "name": "stdout",
          "text": [
            "Epoch: 17 Training Loss: 5.035017758607864 Training Accuracy: 0.620445728302002 Test Loss: 0.6696019172668457 Test Accuracy: 0.5917721390724182\n"
          ]
        },
        {
          "output_type": "stream",
          "name": "stderr",
          "text": [
            "100%|██████████| 15/15 [00:01<00:00, 12.89it/s]\n",
            "100%|██████████| 2/2 [00:00<00:00, 11.69it/s]\n"
          ]
        },
        {
          "output_type": "stream",
          "name": "stdout",
          "text": [
            "Epoch: 18 Training Loss: 4.69368813931942 Training Accuracy: 0.6292889714241028 Test Loss: 0.6522445976734161 Test Accuracy: 0.5917721390724182\n"
          ]
        },
        {
          "output_type": "stream",
          "name": "stderr",
          "text": [
            "100%|██████████| 15/15 [00:01<00:00, 12.22it/s]\n",
            "100%|██████████| 2/2 [00:00<00:00, 17.63it/s]\n"
          ]
        },
        {
          "output_type": "stream",
          "name": "stdout",
          "text": [
            "Epoch: 19 Training Loss: 4.521913439035416 Training Accuracy: 0.6310576796531677 Test Loss: 0.618354856967926 Test Accuracy: 0.6234177350997925\n"
          ]
        },
        {
          "output_type": "stream",
          "name": "stderr",
          "text": [
            "100%|██████████| 15/15 [00:00<00:00, 16.97it/s]\n",
            "100%|██████████| 2/2 [00:00<00:00, 17.39it/s]\n"
          ]
        },
        {
          "output_type": "stream",
          "name": "stdout",
          "text": [
            "Epoch: 20 Training Loss: 4.481335669755936 Training Accuracy: 0.63494873046875 Test Loss: 0.5810351967811584 Test Accuracy: 0.6265822649002075\n"
          ]
        },
        {
          "output_type": "stream",
          "name": "stderr",
          "text": [
            "100%|██████████| 15/15 [00:00<00:00, 16.70it/s]\n",
            "100%|██████████| 2/2 [00:00<00:00, 17.40it/s]\n"
          ]
        },
        {
          "output_type": "stream",
          "name": "stdout",
          "text": [
            "Epoch: 21 Training Loss: 4.2595807164907455 Training Accuracy: 0.6391934752464294 Test Loss: 0.5705646872520447 Test Accuracy: 0.6455696225166321\n"
          ]
        },
        {
          "output_type": "stream",
          "name": "stderr",
          "text": [
            "100%|██████████| 15/15 [00:00<00:00, 16.88it/s]\n",
            "100%|██████████| 2/2 [00:00<00:00, 17.19it/s]\n"
          ]
        },
        {
          "output_type": "stream",
          "name": "stdout",
          "text": [
            "Epoch: 22 Training Loss: 4.010589562356472 Training Accuracy: 0.6646621823310852 Test Loss: 0.5711603611707687 Test Accuracy: 0.655063271522522\n"
          ]
        },
        {
          "output_type": "stream",
          "name": "stderr",
          "text": [
            "100%|██████████| 15/15 [00:00<00:00, 16.89it/s]\n",
            "100%|██████████| 2/2 [00:00<00:00, 16.88it/s]\n"
          ]
        },
        {
          "output_type": "stream",
          "name": "stdout",
          "text": [
            "Epoch: 23 Training Loss: 3.841157577931881 Training Accuracy: 0.6706756353378296 Test Loss: 0.5332511812448502 Test Accuracy: 0.6613923907279968\n"
          ]
        },
        {
          "output_type": "stream",
          "name": "stderr",
          "text": [
            "100%|██████████| 15/15 [00:00<00:00, 17.07it/s]\n",
            "100%|██████████| 2/2 [00:00<00:00, 17.26it/s]\n"
          ]
        },
        {
          "output_type": "stream",
          "name": "stdout",
          "text": [
            "Epoch: 24 Training Loss: 3.9121848791837692 Training Accuracy: 0.6816413402557373 Test Loss: 0.5130157172679901 Test Accuracy: 0.6867088675498962\n"
          ]
        },
        {
          "output_type": "stream",
          "name": "stderr",
          "text": [
            "100%|██████████| 15/15 [00:00<00:00, 17.00it/s]\n",
            "100%|██████████| 2/2 [00:00<00:00, 17.20it/s]\n"
          ]
        },
        {
          "output_type": "stream",
          "name": "stdout",
          "text": [
            "Epoch: 25 Training Loss: 3.7443594485521317 Training Accuracy: 0.6823487877845764 Test Loss: 0.4985673278570175 Test Accuracy: 0.702531635761261\n"
          ]
        },
        {
          "output_type": "stream",
          "name": "stderr",
          "text": [
            "100%|██████████| 15/15 [00:00<00:00, 15.55it/s]\n",
            "100%|██████████| 2/2 [00:00<00:00, 17.40it/s]\n"
          ]
        },
        {
          "output_type": "stream",
          "name": "stdout",
          "text": [
            "Epoch: 26 Training Loss: 3.6783126443624496 Training Accuracy: 0.6972055435180664 Test Loss: 0.4647696018218994 Test Accuracy: 0.7120253443717957\n"
          ]
        },
        {
          "output_type": "stream",
          "name": "stderr",
          "text": [
            "100%|██████████| 15/15 [00:00<00:00, 16.23it/s]\n",
            "100%|██████████| 2/2 [00:00<00:00, 16.55it/s]\n"
          ]
        },
        {
          "output_type": "stream",
          "name": "stdout",
          "text": [
            "Epoch: 27 Training Loss: 3.554968938231468 Training Accuracy: 0.7014502882957458 Test Loss: 0.45056046545505524 Test Accuracy: 0.7341772317886353\n"
          ]
        },
        {
          "output_type": "stream",
          "name": "stderr",
          "text": [
            "100%|██████████| 15/15 [00:00<00:00, 16.93it/s]\n",
            "100%|██████████| 2/2 [00:00<00:00, 16.08it/s]\n"
          ]
        },
        {
          "output_type": "stream",
          "name": "stdout",
          "text": [
            "Epoch: 28 Training Loss: 3.3241299986839294 Training Accuracy: 0.7251503467559814 Test Loss: 0.4377773851156235 Test Accuracy: 0.7436708807945251\n"
          ]
        },
        {
          "output_type": "stream",
          "name": "stderr",
          "text": [
            "100%|██████████| 15/15 [00:01<00:00, 13.69it/s]\n",
            "100%|██████████| 2/2 [00:00<00:00, 11.36it/s]\n"
          ]
        },
        {
          "output_type": "stream",
          "name": "stdout",
          "text": [
            "Epoch: 29 Training Loss: 3.250397652387619 Training Accuracy: 0.7301025986671448 Test Loss: 0.41207368671894073 Test Accuracy: 0.75\n"
          ]
        },
        {
          "output_type": "stream",
          "name": "stderr",
          "text": [
            "100%|██████████| 15/15 [00:01<00:00, 11.73it/s]\n",
            "100%|██████████| 2/2 [00:00<00:00, 17.06it/s]\n"
          ]
        },
        {
          "output_type": "stream",
          "name": "stdout",
          "text": [
            "Epoch: 30 Training Loss: 3.004386469721794 Training Accuracy: 0.7407145500183105 Test Loss: 0.41673216223716736 Test Accuracy: 0.75\n"
          ]
        },
        {
          "output_type": "stream",
          "name": "stderr",
          "text": [
            "100%|██████████| 15/15 [00:00<00:00, 16.93it/s]\n",
            "100%|██████████| 2/2 [00:00<00:00, 17.44it/s]\n"
          ]
        },
        {
          "output_type": "stream",
          "name": "stdout",
          "text": [
            "Epoch: 31 Training Loss: 3.0363082587718964 Training Accuracy: 0.7453130483627319 Test Loss: 0.37130168080329895 Test Accuracy: 0.7721518874168396\n"
          ]
        },
        {
          "output_type": "stream",
          "name": "stderr",
          "text": [
            "100%|██████████| 15/15 [00:00<00:00, 16.71it/s]\n",
            "100%|██████████| 2/2 [00:00<00:00, 16.86it/s]\n"
          ]
        },
        {
          "output_type": "stream",
          "name": "stdout",
          "text": [
            "Epoch: 32 Training Loss: 3.057570904493332 Training Accuracy: 0.7484966516494751 Test Loss: 0.39317460358142853 Test Accuracy: 0.7784810066223145\n"
          ]
        },
        {
          "output_type": "stream",
          "name": "stderr",
          "text": [
            "100%|██████████| 15/15 [00:00<00:00, 16.65it/s]\n",
            "100%|██████████| 2/2 [00:00<00:00, 17.14it/s]\n"
          ]
        },
        {
          "output_type": "stream",
          "name": "stdout",
          "text": [
            "Epoch: 33 Training Loss: 2.836838461458683 Training Accuracy: 0.7484966516494751 Test Loss: 0.3676316738128662 Test Accuracy: 0.7753164768218994\n"
          ]
        },
        {
          "output_type": "stream",
          "name": "stderr",
          "text": [
            "100%|██████████| 15/15 [00:00<00:00, 16.74it/s]\n",
            "100%|██████████| 2/2 [00:00<00:00, 16.89it/s]\n"
          ]
        },
        {
          "output_type": "stream",
          "name": "stdout",
          "text": [
            "Epoch: 34 Training Loss: 2.791977971792221 Training Accuracy: 0.7771489024162292 Test Loss: 0.34708505868911743 Test Accuracy: 0.7848101258277893\n"
          ]
        },
        {
          "output_type": "stream",
          "name": "stderr",
          "text": [
            "100%|██████████| 15/15 [00:00<00:00, 16.89it/s]\n",
            "100%|██████████| 2/2 [00:00<00:00, 17.12it/s]\n"
          ]
        },
        {
          "output_type": "stream",
          "name": "stdout",
          "text": [
            "Epoch: 35 Training Loss: 2.7773669362068176 Training Accuracy: 0.7683055996894836 Test Loss: 0.357919842004776 Test Accuracy: 0.7816455960273743\n"
          ]
        },
        {
          "output_type": "stream",
          "name": "stderr",
          "text": [
            "100%|██████████| 15/15 [00:00<00:00, 16.74it/s]\n",
            "100%|██████████| 2/2 [00:00<00:00, 17.23it/s]\n"
          ]
        },
        {
          "output_type": "stream",
          "name": "stdout",
          "text": [
            "Epoch: 36 Training Loss: 2.5411408245563507 Training Accuracy: 0.7778564095497131 Test Loss: 0.30872194468975067 Test Accuracy: 0.8164557218551636\n"
          ]
        },
        {
          "output_type": "stream",
          "name": "stderr",
          "text": [
            "100%|██████████| 15/15 [00:00<00:00, 16.62it/s]\n",
            "100%|██████████| 2/2 [00:00<00:00, 17.32it/s]\n"
          ]
        },
        {
          "output_type": "stream",
          "name": "stdout",
          "text": [
            "Epoch: 37 Training Loss: 2.3058657124638557 Training Accuracy: 0.7955429553985596 Test Loss: 0.2971993237733841 Test Accuracy: 0.8227847814559937\n"
          ]
        },
        {
          "output_type": "stream",
          "name": "stderr",
          "text": [
            "100%|██████████| 15/15 [00:00<00:00, 16.07it/s]\n",
            "100%|██████████| 2/2 [00:00<00:00, 17.21it/s]\n"
          ]
        },
        {
          "output_type": "stream",
          "name": "stdout",
          "text": [
            "Epoch: 38 Training Loss: 2.125586934387684 Training Accuracy: 0.8043862581253052 Test Loss: 0.24483418464660645 Test Accuracy: 0.844936728477478\n"
          ]
        },
        {
          "output_type": "stream",
          "name": "stderr",
          "text": [
            "100%|██████████| 15/15 [00:00<00:00, 16.12it/s]\n",
            "100%|██████████| 2/2 [00:00<00:00, 16.98it/s]\n"
          ]
        },
        {
          "output_type": "stream",
          "name": "stdout",
          "text": [
            "Epoch: 39 Training Loss: 1.966255471110344 Training Accuracy: 0.8287937641143799 Test Loss: 0.22822506725788116 Test Accuracy: 0.8670886158943176\n"
          ]
        },
        {
          "output_type": "stream",
          "name": "stderr",
          "text": [
            "100%|██████████| 15/15 [00:01<00:00, 13.80it/s]\n",
            "100%|██████████| 2/2 [00:00<00:00, 11.66it/s]\n"
          ]
        },
        {
          "output_type": "stream",
          "name": "stdout",
          "text": [
            "Epoch: 40 Training Loss: 1.9498735293745995 Training Accuracy: 0.8305624127388 Test Loss: 0.23592694848775864 Test Accuracy: 0.8639240264892578\n"
          ]
        },
        {
          "output_type": "stream",
          "name": "stderr",
          "text": [
            "100%|██████████| 15/15 [00:01<00:00, 11.44it/s]\n",
            "100%|██████████| 2/2 [00:00<00:00, 17.39it/s]\n"
          ]
        },
        {
          "output_type": "stream",
          "name": "stdout",
          "text": [
            "Epoch: 41 Training Loss: 1.779320240020752 Training Accuracy: 0.8447117209434509 Test Loss: 0.2272382453083992 Test Accuracy: 0.8607594966888428\n"
          ]
        },
        {
          "output_type": "stream",
          "name": "stderr",
          "text": [
            "100%|██████████| 15/15 [00:00<00:00, 16.45it/s]\n",
            "100%|██████████| 2/2 [00:00<00:00, 17.06it/s]\n"
          ]
        },
        {
          "output_type": "stream",
          "name": "stdout",
          "text": [
            "Epoch: 42 Training Loss: 1.7593305632472038 Training Accuracy: 0.8475415706634521 Test Loss: 0.20954638719558716 Test Accuracy: 0.8639240264892578\n"
          ]
        },
        {
          "output_type": "stream",
          "name": "stderr",
          "text": [
            "100%|██████████| 15/15 [00:00<00:00, 16.85it/s]\n",
            "100%|██████████| 2/2 [00:00<00:00, 17.31it/s]\n"
          ]
        },
        {
          "output_type": "stream",
          "name": "stdout",
          "text": [
            "Epoch: 43 Training Loss: 1.554246835410595 Training Accuracy: 0.8606296181678772 Test Loss: 0.199519582092762 Test Accuracy: 0.8892405033111572\n"
          ]
        },
        {
          "output_type": "stream",
          "name": "stderr",
          "text": [
            "100%|██████████| 15/15 [00:00<00:00, 16.72it/s]\n",
            "100%|██████████| 2/2 [00:00<00:00, 17.36it/s]\n"
          ]
        },
        {
          "output_type": "stream",
          "name": "stdout",
          "text": [
            "Epoch: 44 Training Loss: 1.4904280081391335 Training Accuracy: 0.8761938214302063 Test Loss: 0.1673831269145012 Test Accuracy: 0.9303797483444214\n"
          ]
        },
        {
          "output_type": "stream",
          "name": "stderr",
          "text": [
            "100%|██████████| 15/15 [00:00<00:00, 16.62it/s]\n",
            "100%|██████████| 2/2 [00:00<00:00, 17.24it/s]\n"
          ]
        },
        {
          "output_type": "stream",
          "name": "stdout",
          "text": [
            "Epoch: 45 Training Loss: 1.3490485809743404 Training Accuracy: 0.8850371241569519 Test Loss: 0.14964565634727478 Test Accuracy: 0.9335442781448364\n"
          ]
        },
        {
          "output_type": "stream",
          "name": "stderr",
          "text": [
            "100%|██████████| 15/15 [00:00<00:00, 16.85it/s]\n",
            "100%|██████████| 2/2 [00:00<00:00, 17.35it/s]\n"
          ]
        },
        {
          "output_type": "stream",
          "name": "stdout",
          "text": [
            "Epoch: 46 Training Loss: 1.1748269349336624 Training Accuracy: 0.9041386842727661 Test Loss: 0.14218170940876007 Test Accuracy: 0.9177215099334717\n"
          ]
        },
        {
          "output_type": "stream",
          "name": "stderr",
          "text": [
            "100%|██████████| 15/15 [00:00<00:00, 16.44it/s]\n",
            "100%|██████████| 2/2 [00:00<00:00, 16.55it/s]\n"
          ]
        },
        {
          "output_type": "stream",
          "name": "stdout",
          "text": [
            "Epoch: 47 Training Loss: 1.1496194079518318 Training Accuracy: 0.915458083152771 Test Loss: 0.11160573363304138 Test Accuracy: 0.9556962251663208\n"
          ]
        },
        {
          "output_type": "stream",
          "name": "stderr",
          "text": [
            "100%|██████████| 15/15 [00:00<00:00, 16.79it/s]\n",
            "100%|██████████| 2/2 [00:00<00:00, 17.28it/s]\n"
          ]
        },
        {
          "output_type": "stream",
          "name": "stdout",
          "text": [
            "Epoch: 48 Training Loss: 1.0915939845144749 Training Accuracy: 0.9133356809616089 Test Loss: 0.11194586753845215 Test Accuracy: 0.949367105960846\n"
          ]
        },
        {
          "output_type": "stream",
          "name": "stderr",
          "text": [
            "100%|██████████| 15/15 [00:00<00:00, 16.57it/s]\n",
            "100%|██████████| 2/2 [00:00<00:00, 17.42it/s]\n"
          ]
        },
        {
          "output_type": "stream",
          "name": "stdout",
          "text": [
            "Epoch: 49 Training Loss: 1.036714754998684 Training Accuracy: 0.9257162809371948 Test Loss: 0.10248417779803276 Test Accuracy: 0.9462025165557861\n"
          ]
        },
        {
          "output_type": "stream",
          "name": "stderr",
          "text": [
            "100%|██████████| 15/15 [00:00<00:00, 17.06it/s]\n",
            "100%|██████████| 2/2 [00:00<00:00, 17.21it/s]\n"
          ]
        },
        {
          "output_type": "stream",
          "name": "stdout",
          "text": [
            "Epoch: 50 Training Loss: 0.9927495196461678 Training Accuracy: 0.9327909350395203 Test Loss: 0.11648881807923317 Test Accuracy: 0.9588607549667358\n"
          ]
        },
        {
          "output_type": "stream",
          "name": "stderr",
          "text": [
            "100%|██████████| 15/15 [00:01<00:00, 14.92it/s]\n",
            "100%|██████████| 2/2 [00:00<00:00, 11.92it/s]\n"
          ]
        },
        {
          "output_type": "stream",
          "name": "stdout",
          "text": [
            "Epoch: 51 Training Loss: 0.9641300477087498 Training Accuracy: 0.9356207847595215 Test Loss: 0.11962078511714935 Test Accuracy: 0.9367088675498962\n"
          ]
        },
        {
          "output_type": "stream",
          "name": "stderr",
          "text": [
            "100%|██████████| 15/15 [00:01<00:00, 11.90it/s]\n",
            "100%|██████████| 2/2 [00:00<00:00, 10.78it/s]\n"
          ]
        },
        {
          "output_type": "stream",
          "name": "stdout",
          "text": [
            "Epoch: 52 Training Loss: 0.8044560682028532 Training Accuracy: 0.9391581416130066 Test Loss: 0.08168156445026398 Test Accuracy: 0.9715189933776855\n"
          ]
        },
        {
          "output_type": "stream",
          "name": "stderr",
          "text": [
            "100%|██████████| 15/15 [00:00<00:00, 16.77it/s]\n",
            "100%|██████████| 2/2 [00:00<00:00, 16.05it/s]\n"
          ]
        },
        {
          "output_type": "stream",
          "name": "stdout",
          "text": [
            "Epoch: 53 Training Loss: 0.6392602373380214 Training Accuracy: 0.9603820443153381 Test Loss: 0.05695664882659912 Test Accuracy: 0.9936708807945251\n"
          ]
        },
        {
          "output_type": "stream",
          "name": "stderr",
          "text": [
            "100%|██████████| 15/15 [00:00<00:00, 17.00it/s]\n",
            "100%|██████████| 2/2 [00:00<00:00, 15.94it/s]\n"
          ]
        },
        {
          "output_type": "stream",
          "name": "stdout",
          "text": [
            "Epoch: 54 Training Loss: 0.5798002872616053 Training Accuracy: 0.9724088907241821 Test Loss: 0.04923618212342262 Test Accuracy: 0.9873417615890503\n"
          ]
        },
        {
          "output_type": "stream",
          "name": "stderr",
          "text": [
            "100%|██████████| 15/15 [00:00<00:00, 16.72it/s]\n",
            "100%|██████████| 2/2 [00:00<00:00, 15.65it/s]\n"
          ]
        },
        {
          "output_type": "stream",
          "name": "stdout",
          "text": [
            "Epoch: 55 Training Loss: 0.5251035820692778 Training Accuracy: 0.9727626442909241 Test Loss: 0.052453331649303436 Test Accuracy: 0.9873417615890503\n"
          ]
        },
        {
          "output_type": "stream",
          "name": "stderr",
          "text": [
            "100%|██████████| 15/15 [00:00<00:00, 16.92it/s]\n",
            "100%|██████████| 2/2 [00:00<00:00, 15.91it/s]\n"
          ]
        },
        {
          "output_type": "stream",
          "name": "stdout",
          "text": [
            "Epoch: 56 Training Loss: 0.48850971553474665 Training Accuracy: 0.9748850464820862 Test Loss: 0.05080651864409447 Test Accuracy: 0.9810126423835754\n"
          ]
        },
        {
          "output_type": "stream",
          "name": "stderr",
          "text": [
            "100%|██████████| 15/15 [00:00<00:00, 17.08it/s]\n",
            "100%|██████████| 2/2 [00:00<00:00, 15.69it/s]\n"
          ]
        },
        {
          "output_type": "stream",
          "name": "stdout",
          "text": [
            "Epoch: 57 Training Loss: 0.4147764788940549 Training Accuracy: 0.9780686497688293 Test Loss: 0.037569427862763405 Test Accuracy: 0.996835470199585\n"
          ]
        },
        {
          "output_type": "stream",
          "name": "stderr",
          "text": [
            "100%|██████████| 15/15 [00:00<00:00, 16.79it/s]\n",
            "100%|██████████| 2/2 [00:00<00:00, 15.69it/s]\n"
          ]
        },
        {
          "output_type": "stream",
          "name": "stdout",
          "text": [
            "Epoch: 58 Training Loss: 0.31612321455031633 Training Accuracy: 0.9911566972732544 Test Loss: 0.03687839396297932 Test Accuracy: 0.9841772317886353\n"
          ]
        },
        {
          "output_type": "stream",
          "name": "stderr",
          "text": [
            "100%|██████████| 15/15 [00:00<00:00, 16.78it/s]\n",
            "100%|██████████| 2/2 [00:00<00:00, 15.72it/s]\n"
          ]
        },
        {
          "output_type": "stream",
          "name": "stdout",
          "text": [
            "Epoch: 59 Training Loss: 0.2773670933675021 Training Accuracy: 0.9922178983688354 Test Loss: 0.02680542878806591 Test Accuracy: 0.9936708807945251\n"
          ]
        },
        {
          "output_type": "stream",
          "name": "stderr",
          "text": [
            "100%|██████████| 15/15 [00:00<00:00, 17.04it/s]\n",
            "100%|██████████| 2/2 [00:00<00:00, 15.70it/s]\n"
          ]
        },
        {
          "output_type": "stream",
          "name": "stdout",
          "text": [
            "Epoch: 60 Training Loss: 0.23375756200402975 Training Accuracy: 0.9936328530311584 Test Loss: 0.026188992895185947 Test Accuracy: 0.9936708807945251\n"
          ]
        },
        {
          "output_type": "stream",
          "name": "stderr",
          "text": [
            "100%|██████████| 15/15 [00:00<00:00, 16.96it/s]\n",
            "100%|██████████| 2/2 [00:00<00:00, 16.12it/s]\n"
          ]
        },
        {
          "output_type": "stream",
          "name": "stdout",
          "text": [
            "Epoch: 61 Training Loss: 0.20890103792771697 Training Accuracy: 0.9946939945220947 Test Loss: 0.019589771516621113 Test Accuracy: 0.9936708807945251\n"
          ]
        },
        {
          "output_type": "stream",
          "name": "stderr",
          "text": [
            "100%|██████████| 15/15 [00:00<00:00, 16.42it/s]\n",
            "100%|██████████| 2/2 [00:00<00:00, 10.03it/s]\n"
          ]
        },
        {
          "output_type": "stream",
          "name": "stdout",
          "text": [
            "Epoch: 62 Training Loss: 0.18080599838867784 Training Accuracy: 0.9964627027511597 Test Loss: 0.02272819634526968 Test Accuracy: 0.9936708807945251\n"
          ]
        },
        {
          "output_type": "stream",
          "name": "stderr",
          "text": [
            "100%|██████████| 15/15 [00:01<00:00, 11.41it/s]\n",
            "100%|██████████| 2/2 [00:00<00:00, 11.33it/s]\n"
          ]
        },
        {
          "output_type": "stream",
          "name": "stdout",
          "text": [
            "Epoch: 63 Training Loss: 0.15298649482429028 Training Accuracy: 0.9968163967132568 Test Loss: 0.015814919490367174 Test Accuracy: 0.996835470199585\n"
          ]
        },
        {
          "output_type": "stream",
          "name": "stderr",
          "text": [
            "100%|██████████| 15/15 [00:01<00:00, 14.55it/s]\n",
            "100%|██████████| 2/2 [00:00<00:00, 16.77it/s]\n"
          ]
        },
        {
          "output_type": "stream",
          "name": "stdout",
          "text": [
            "Epoch: 64 Training Loss: 0.14195982203818858 Training Accuracy: 0.9968163967132568 Test Loss: 0.017564075998961926 Test Accuracy: 0.996835470199585\n"
          ]
        },
        {
          "output_type": "stream",
          "name": "stderr",
          "text": [
            "100%|██████████| 15/15 [00:00<00:00, 16.84it/s]\n",
            "100%|██████████| 2/2 [00:00<00:00, 16.71it/s]\n"
          ]
        },
        {
          "output_type": "stream",
          "name": "stdout",
          "text": [
            "Epoch: 65 Training Loss: 0.1223759698914364 Training Accuracy: 0.9978775978088379 Test Loss: 0.014767032116651535 Test Accuracy: 0.996835470199585\n"
          ]
        },
        {
          "output_type": "stream",
          "name": "stderr",
          "text": [
            "100%|██████████| 15/15 [00:00<00:00, 16.46it/s]\n",
            "100%|██████████| 2/2 [00:00<00:00, 16.15it/s]\n"
          ]
        },
        {
          "output_type": "stream",
          "name": "stdout",
          "text": [
            "Epoch: 66 Training Loss: 0.11087285971734673 Training Accuracy: 0.9978775978088379 Test Loss: 0.011088833212852478 Test Accuracy: 1.0\n"
          ]
        },
        {
          "output_type": "stream",
          "name": "stderr",
          "text": [
            "100%|██████████| 15/15 [00:00<00:00, 16.61it/s]\n",
            "100%|██████████| 2/2 [00:00<00:00, 16.98it/s]\n"
          ]
        },
        {
          "output_type": "stream",
          "name": "stdout",
          "text": [
            "Epoch: 67 Training Loss: 0.10440783528611064 Training Accuracy: 0.998585045337677 Test Loss: 0.01289279293268919 Test Accuracy: 1.0\n"
          ]
        },
        {
          "output_type": "stream",
          "name": "stderr",
          "text": [
            "100%|██████████| 15/15 [00:00<00:00, 16.61it/s]\n",
            "100%|██████████| 2/2 [00:00<00:00, 17.51it/s]\n"
          ]
        },
        {
          "output_type": "stream",
          "name": "stdout",
          "text": [
            "Epoch: 68 Training Loss: 0.10169292031787336 Training Accuracy: 0.9975239038467407 Test Loss: 0.013379616662859917 Test Accuracy: 0.996835470199585\n"
          ]
        },
        {
          "output_type": "stream",
          "name": "stderr",
          "text": [
            "100%|██████████| 15/15 [00:00<00:00, 16.78it/s]\n",
            "100%|██████████| 2/2 [00:00<00:00, 17.61it/s]\n"
          ]
        },
        {
          "output_type": "stream",
          "name": "stdout",
          "text": [
            "Epoch: 69 Training Loss: 0.09391306340694427 Training Accuracy: 0.9992925524711609 Test Loss: 0.011724313255399466 Test Accuracy: 1.0\n"
          ]
        },
        {
          "output_type": "stream",
          "name": "stderr",
          "text": [
            "100%|██████████| 15/15 [00:00<00:00, 16.59it/s]\n",
            "100%|██████████| 2/2 [00:00<00:00, 17.18it/s]\n"
          ]
        },
        {
          "output_type": "stream",
          "name": "stdout",
          "text": [
            "Epoch: 70 Training Loss: 0.09021854982711375 Training Accuracy: 0.9982313513755798 Test Loss: 0.010966499336063862 Test Accuracy: 1.0\n"
          ]
        },
        {
          "output_type": "stream",
          "name": "stderr",
          "text": [
            "100%|██████████| 15/15 [00:01<00:00,  9.98it/s]\n",
            "100%|██████████| 2/2 [00:00<00:00, 17.52it/s]\n"
          ]
        },
        {
          "output_type": "stream",
          "name": "stdout",
          "text": [
            "Epoch: 71 Training Loss: 0.08475941233336926 Training Accuracy: 0.998585045337677 Test Loss: 0.009227495873346925 Test Accuracy: 0.996835470199585\n"
          ]
        },
        {
          "output_type": "stream",
          "name": "stderr",
          "text": [
            "100%|██████████| 15/15 [00:01<00:00, 12.97it/s]\n",
            "100%|██████████| 2/2 [00:00<00:00, 16.99it/s]\n"
          ]
        },
        {
          "output_type": "stream",
          "name": "stdout",
          "text": [
            "Epoch: 72 Training Loss: 0.07146086043212563 Training Accuracy: 0.998585045337677 Test Loss: 0.009665864752605557 Test Accuracy: 1.0\n"
          ]
        },
        {
          "output_type": "stream",
          "name": "stderr",
          "text": [
            "100%|██████████| 15/15 [00:01<00:00, 12.14it/s]\n",
            "100%|██████████| 2/2 [00:00<00:00, 11.13it/s]\n"
          ]
        },
        {
          "output_type": "stream",
          "name": "stdout",
          "text": [
            "Epoch: 73 Training Loss: 0.06613052147440612 Training Accuracy: 0.998938798904419 Test Loss: 0.007397153181955218 Test Accuracy: 1.0\n"
          ]
        },
        {
          "output_type": "stream",
          "name": "stderr",
          "text": [
            "100%|██████████| 15/15 [00:01<00:00, 12.91it/s]\n",
            "100%|██████████| 2/2 [00:00<00:00, 17.28it/s]\n"
          ]
        },
        {
          "output_type": "stream",
          "name": "stdout",
          "text": [
            "Epoch: 74 Training Loss: 0.06417574803344905 Training Accuracy: 0.9992925524711609 Test Loss: 0.006646702066063881 Test Accuracy: 1.0\n"
          ]
        },
        {
          "output_type": "stream",
          "name": "stderr",
          "text": [
            "100%|██████████| 15/15 [00:00<00:00, 16.81it/s]\n",
            "100%|██████████| 2/2 [00:00<00:00, 16.87it/s]\n"
          ]
        },
        {
          "output_type": "stream",
          "name": "stdout",
          "text": [
            "Epoch: 75 Training Loss: 0.05799035407835618 Training Accuracy: 0.998585045337677 Test Loss: 0.008086699759587646 Test Accuracy: 1.0\n"
          ]
        },
        {
          "output_type": "stream",
          "name": "stderr",
          "text": [
            "100%|██████████| 15/15 [00:00<00:00, 16.82it/s]\n",
            "100%|██████████| 2/2 [00:00<00:00, 17.21it/s]\n"
          ]
        },
        {
          "output_type": "stream",
          "name": "stdout",
          "text": [
            "Epoch: 76 Training Loss: 0.056588648119941354 Training Accuracy: 0.998585045337677 Test Loss: 0.007517100544646382 Test Accuracy: 1.0\n"
          ]
        },
        {
          "output_type": "stream",
          "name": "stderr",
          "text": [
            "100%|██████████| 15/15 [00:00<00:00, 16.63it/s]\n",
            "100%|██████████| 2/2 [00:00<00:00, 16.99it/s]\n"
          ]
        },
        {
          "output_type": "stream",
          "name": "stdout",
          "text": [
            "Epoch: 77 Training Loss: 0.055608677212148905 Training Accuracy: 0.9992925524711609 Test Loss: 0.005807205685414374 Test Accuracy: 1.0\n"
          ]
        },
        {
          "output_type": "stream",
          "name": "stderr",
          "text": [
            "100%|██████████| 15/15 [00:00<00:00, 16.71it/s]\n",
            "100%|██████████| 2/2 [00:00<00:00, 17.21it/s]\n"
          ]
        },
        {
          "output_type": "stream",
          "name": "stdout",
          "text": [
            "Epoch: 78 Training Loss: 0.05313468584790826 Training Accuracy: 0.998938798904419 Test Loss: 0.006279469467699528 Test Accuracy: 1.0\n"
          ]
        },
        {
          "output_type": "stream",
          "name": "stderr",
          "text": [
            "100%|██████████| 15/15 [00:00<00:00, 16.72it/s]\n",
            "100%|██████████| 2/2 [00:00<00:00, 16.56it/s]\n"
          ]
        },
        {
          "output_type": "stream",
          "name": "stdout",
          "text": [
            "Epoch: 79 Training Loss: 0.0480210327077657 Training Accuracy: 0.9996462464332581 Test Loss: 0.006137088872492313 Test Accuracy: 1.0\n"
          ]
        },
        {
          "output_type": "stream",
          "name": "stderr",
          "text": [
            "100%|██████████| 15/15 [00:00<00:00, 16.84it/s]\n",
            "100%|██████████| 2/2 [00:00<00:00, 17.29it/s]\n"
          ]
        },
        {
          "output_type": "stream",
          "name": "stdout",
          "text": [
            "Epoch: 80 Training Loss: 0.04798255569767207 Training Accuracy: 0.9992925524711609 Test Loss: 0.004990724730305374 Test Accuracy: 1.0\n"
          ]
        },
        {
          "output_type": "stream",
          "name": "stderr",
          "text": [
            "100%|██████████| 15/15 [00:00<00:00, 16.70it/s]\n",
            "100%|██████████| 2/2 [00:00<00:00, 16.76it/s]\n"
          ]
        },
        {
          "output_type": "stream",
          "name": "stdout",
          "text": [
            "Epoch: 81 Training Loss: 0.041019800963113084 Training Accuracy: 1.0 Test Loss: 0.0064670799765735865 Test Accuracy: 1.0\n"
          ]
        },
        {
          "output_type": "stream",
          "name": "stderr",
          "text": [
            "100%|██████████| 15/15 [00:00<00:00, 16.79it/s]\n",
            "100%|██████████| 2/2 [00:00<00:00, 17.15it/s]\n"
          ]
        },
        {
          "output_type": "stream",
          "name": "stdout",
          "text": [
            "Epoch: 82 Training Loss: 0.03942034090869129 Training Accuracy: 1.0 Test Loss: 0.00395243673119694 Test Accuracy: 1.0\n"
          ]
        },
        {
          "output_type": "stream",
          "name": "stderr",
          "text": [
            "100%|██████████| 15/15 [00:00<00:00, 16.41it/s]\n",
            "100%|██████████| 2/2 [00:00<00:00, 16.91it/s]\n"
          ]
        },
        {
          "output_type": "stream",
          "name": "stdout",
          "text": [
            "Epoch: 83 Training Loss: 0.03629708173684776 Training Accuracy: 1.0 Test Loss: 0.004871221957728267 Test Accuracy: 1.0\n"
          ]
        },
        {
          "output_type": "stream",
          "name": "stderr",
          "text": [
            "100%|██████████| 15/15 [00:01<00:00, 12.57it/s]\n",
            "100%|██████████| 2/2 [00:00<00:00, 12.46it/s]\n"
          ]
        },
        {
          "output_type": "stream",
          "name": "stdout",
          "text": [
            "Epoch: 84 Training Loss: 0.0363524112617597 Training Accuracy: 0.9992925524711609 Test Loss: 0.004576561506837606 Test Accuracy: 1.0\n"
          ]
        },
        {
          "output_type": "stream",
          "name": "stderr",
          "text": [
            "100%|██████████| 15/15 [00:01<00:00, 12.47it/s]\n",
            "100%|██████████| 2/2 [00:00<00:00, 17.50it/s]\n"
          ]
        },
        {
          "output_type": "stream",
          "name": "stdout",
          "text": [
            "Epoch: 85 Training Loss: 0.034564069588668644 Training Accuracy: 1.0 Test Loss: 0.004389762645587325 Test Accuracy: 1.0\n"
          ]
        },
        {
          "output_type": "stream",
          "name": "stderr",
          "text": [
            "100%|██████████| 15/15 [00:00<00:00, 16.83it/s]\n",
            "100%|██████████| 2/2 [00:00<00:00, 17.36it/s]\n"
          ]
        },
        {
          "output_type": "stream",
          "name": "stdout",
          "text": [
            "Epoch: 86 Training Loss: 0.03138655732618645 Training Accuracy: 0.9996462464332581 Test Loss: 0.0035573705099523067 Test Accuracy: 1.0\n"
          ]
        },
        {
          "output_type": "stream",
          "name": "stderr",
          "text": [
            "100%|██████████| 15/15 [00:00<00:00, 16.69it/s]\n",
            "100%|██████████| 2/2 [00:00<00:00, 17.16it/s]\n"
          ]
        },
        {
          "output_type": "stream",
          "name": "stdout",
          "text": [
            "Epoch: 87 Training Loss: 0.03099148510955274 Training Accuracy: 0.9996462464332581 Test Loss: 0.0037595886969938874 Test Accuracy: 1.0\n"
          ]
        },
        {
          "output_type": "stream",
          "name": "stderr",
          "text": [
            "100%|██████████| 15/15 [00:00<00:00, 16.58it/s]\n",
            "100%|██████████| 2/2 [00:00<00:00, 17.02it/s]\n"
          ]
        },
        {
          "output_type": "stream",
          "name": "stdout",
          "text": [
            "Epoch: 88 Training Loss: 0.027962822234258056 Training Accuracy: 1.0 Test Loss: 0.003402691218070686 Test Accuracy: 1.0\n"
          ]
        },
        {
          "output_type": "stream",
          "name": "stderr",
          "text": [
            "100%|██████████| 15/15 [00:00<00:00, 16.29it/s]\n",
            "100%|██████████| 2/2 [00:00<00:00, 16.86it/s]\n"
          ]
        },
        {
          "output_type": "stream",
          "name": "stdout",
          "text": [
            "Epoch: 89 Training Loss: 0.025496240428765304 Training Accuracy: 1.0 Test Loss: 0.003052834654226899 Test Accuracy: 1.0\n"
          ]
        },
        {
          "output_type": "stream",
          "name": "stderr",
          "text": [
            "100%|██████████| 15/15 [00:00<00:00, 16.31it/s]\n",
            "100%|██████████| 2/2 [00:00<00:00, 17.54it/s]\n"
          ]
        },
        {
          "output_type": "stream",
          "name": "stdout",
          "text": [
            "Epoch: 90 Training Loss: 0.025207325466908514 Training Accuracy: 1.0 Test Loss: 0.0032173607032746077 Test Accuracy: 1.0\n"
          ]
        },
        {
          "output_type": "stream",
          "name": "stderr",
          "text": [
            "100%|██████████| 15/15 [00:00<00:00, 17.01it/s]\n",
            "100%|██████████| 2/2 [00:00<00:00, 17.41it/s]\n"
          ]
        },
        {
          "output_type": "stream",
          "name": "stdout",
          "text": [
            "Epoch: 91 Training Loss: 0.025427175220102072 Training Accuracy: 0.9996462464332581 Test Loss: 0.0030788666335865855 Test Accuracy: 1.0\n"
          ]
        },
        {
          "output_type": "stream",
          "name": "stderr",
          "text": [
            "100%|██████████| 15/15 [00:00<00:00, 16.51it/s]\n",
            "100%|██████████| 2/2 [00:00<00:00, 16.80it/s]\n"
          ]
        },
        {
          "output_type": "stream",
          "name": "stdout",
          "text": [
            "Epoch: 92 Training Loss: 0.023931457195430994 Training Accuracy: 1.0 Test Loss: 0.0028920925687998533 Test Accuracy: 1.0\n"
          ]
        },
        {
          "output_type": "stream",
          "name": "stderr",
          "text": [
            "100%|██████████| 15/15 [00:00<00:00, 16.21it/s]\n",
            "100%|██████████| 2/2 [00:00<00:00, 17.24it/s]\n"
          ]
        },
        {
          "output_type": "stream",
          "name": "stdout",
          "text": [
            "Epoch: 93 Training Loss: 0.022542103644809686 Training Accuracy: 0.9996462464332581 Test Loss: 0.0025579786160960793 Test Accuracy: 1.0\n"
          ]
        },
        {
          "output_type": "stream",
          "name": "stderr",
          "text": [
            "100%|██████████| 15/15 [00:00<00:00, 16.73it/s]\n",
            "100%|██████████| 2/2 [00:00<00:00, 17.21it/s]\n"
          ]
        },
        {
          "output_type": "stream",
          "name": "stdout",
          "text": [
            "Epoch: 94 Training Loss: 0.022428976953960955 Training Accuracy: 1.0 Test Loss: 0.002433618064969778 Test Accuracy: 1.0\n"
          ]
        },
        {
          "output_type": "stream",
          "name": "stderr",
          "text": [
            "100%|██████████| 15/15 [00:01<00:00, 12.86it/s]\n",
            "100%|██████████| 2/2 [00:00<00:00, 11.15it/s]\n"
          ]
        },
        {
          "output_type": "stream",
          "name": "stdout",
          "text": [
            "Epoch: 95 Training Loss: 0.020608626888133585 Training Accuracy: 1.0 Test Loss: 0.002606781432405114 Test Accuracy: 1.0\n"
          ]
        },
        {
          "output_type": "stream",
          "name": "stderr",
          "text": [
            "100%|██████████| 15/15 [00:01<00:00, 12.05it/s]\n",
            "100%|██████████| 2/2 [00:00<00:00, 17.55it/s]\n"
          ]
        },
        {
          "output_type": "stream",
          "name": "stdout",
          "text": [
            "Epoch: 96 Training Loss: 0.02017039677593857 Training Accuracy: 1.0 Test Loss: 0.0023445168044418097 Test Accuracy: 1.0\n"
          ]
        },
        {
          "output_type": "stream",
          "name": "stderr",
          "text": [
            "100%|██████████| 15/15 [00:00<00:00, 16.81it/s]\n",
            "100%|██████████| 2/2 [00:00<00:00, 17.46it/s]\n"
          ]
        },
        {
          "output_type": "stream",
          "name": "stdout",
          "text": [
            "Epoch: 97 Training Loss: 0.01873483185772784 Training Accuracy: 1.0 Test Loss: 0.002315979450941086 Test Accuracy: 1.0\n"
          ]
        },
        {
          "output_type": "stream",
          "name": "stderr",
          "text": [
            "100%|██████████| 15/15 [00:00<00:00, 16.87it/s]\n",
            "100%|██████████| 2/2 [00:00<00:00, 17.00it/s]\n"
          ]
        },
        {
          "output_type": "stream",
          "name": "stdout",
          "text": [
            "Epoch: 98 Training Loss: 0.01880612422246486 Training Accuracy: 1.0 Test Loss: 0.0023057444486767054 Test Accuracy: 1.0\n"
          ]
        },
        {
          "output_type": "stream",
          "name": "stderr",
          "text": [
            "100%|██████████| 15/15 [00:00<00:00, 16.50it/s]\n",
            "100%|██████████| 2/2 [00:00<00:00, 17.25it/s]\n"
          ]
        },
        {
          "output_type": "stream",
          "name": "stdout",
          "text": [
            "Epoch: 99 Training Loss: 0.017812869395129383 Training Accuracy: 1.0 Test Loss: 0.00205195602029562 Test Accuracy: 1.0\n"
          ]
        },
        {
          "output_type": "stream",
          "name": "stderr",
          "text": [
            "100%|██████████| 15/15 [00:00<00:00, 16.55it/s]\n",
            "100%|██████████| 2/2 [00:00<00:00, 16.57it/s]"
          ]
        },
        {
          "output_type": "stream",
          "name": "stdout",
          "text": [
            "Epoch: 100 Training Loss: 0.01802925457013771 Training Accuracy: 1.0 Test Loss: 0.002137118368409574 Test Accuracy: 1.0\n"
          ]
        },
        {
          "output_type": "stream",
          "name": "stderr",
          "text": [
            "\n"
          ]
        }
      ]
    },
    {
      "cell_type": "code",
      "source": [
        "class PositionalEncoding(nn.Module):\n",
        "    def __init__(self, emb_size: int, dropout, maxlen: int = 5000):\n",
        "        super(PositionalEncoding, self).__init__()\n",
        "        den = torch.exp(- torch.arange(0, emb_size, 2) * math.log(10000) / emb_size)\n",
        "        pos = torch.arange(0, maxlen).reshape(maxlen, 1)\n",
        "        pos_embedding = torch.zeros((maxlen, emb_size))\n",
        "        pos_embedding[:, 0::2] = torch.sin(pos * den)\n",
        "        pos_embedding[:, 1::2] = torch.cos(pos * den)\n",
        "        pos_embedding = pos_embedding.unsqueeze(-2)\n",
        "\n",
        "        self.dropout = nn.Dropout(dropout)\n",
        "        self.register_buffer('pos_embedding', pos_embedding)\n",
        "\n",
        "    def forward(self, token_embedding):\n",
        "        return self.dropout(token_embedding +\n",
        "                            self.pos_embedding[:token_embedding.size(0),:])\n",
        "\n",
        "def generate_square_subsequent_mask(sz):\n",
        "    mask = (torch.triu(torch.ones((sz, sz), device=device)) == 1).transpose(0, 1)\n",
        "    mask = mask.float().masked_fill(mask == 0, float('-inf')).masked_fill(mask == 1, float(0.0))\n",
        "    return mask\n",
        "\n",
        "def create_mask(src, tgt):\n",
        "  src_seq_len = src.shape[0]\n",
        "  tgt_seq_len = tgt.shape[0]\n",
        "\n",
        "  tgt_mask = generate_square_subsequent_mask(tgt_seq_len)\n",
        "  src_mask = torch.zeros((src_seq_len, src_seq_len), device=device).type(torch.bool)\n",
        "\n",
        "  src_padding_mask = (src == 0).transpose(0, 1)\n",
        "  tgt_padding_mask = (tgt == 0).transpose(0, 1)\n",
        "  return src_mask, tgt_mask, src_padding_mask, tgt_padding_mask"
      ],
      "metadata": {
        "id": "WCwgoxauD99l"
      },
      "execution_count": null,
      "outputs": []
    },
    {
      "cell_type": "code",
      "source": [
        "class TransformerModel(nn.Module):\n",
        "    def __init__(self, num_encoder_layers, nhead, num_decoder_layers,\n",
        "                 emb_size, src_vocab_size, tgt_vocab_size,\n",
        "                 dim_feedforward:int = 512, dropout:float = 0.1):\n",
        "        super(TransformerModel, self).__init__()\n",
        "        encoder_layer = nn.TransformerEncoderLayer(d_model=emb_size, nhead=nhead,\n",
        "                                                dim_feedforward=dim_feedforward)\n",
        "        self.transformer_encoder = nn.TransformerEncoder(encoder_layer, num_layers=num_encoder_layers)\n",
        "        decoder_layer = nn.TransformerDecoderLayer(d_model=emb_size, nhead=nhead,\n",
        "                                                dim_feedforward=dim_feedforward)\n",
        "        self.transformer_decoder = nn.TransformerDecoder(decoder_layer, num_layers=num_decoder_layers)\n",
        "\n",
        "        self.generator = nn.Linear(emb_size, tgt_vocab_size)\n",
        "        self.emb_size = emb_size\n",
        "        self.src_tok_emb = self.embedding = nn.Embedding(src_vocab_size, emb_size)\n",
        "        self.tgt_tok_emb = self.embedding = nn.Embedding(tgt_vocab_size, emb_size)\n",
        "        self.positional_encoding = PositionalEncoding(emb_size, dropout=dropout)\n",
        "\n",
        "    def forward(self, src, trg, src_mask,\n",
        "                tgt_mask, src_padding_mask,\n",
        "                tgt_padding_mask, memory_key_padding_mask):\n",
        "        src_emb = self.positional_encoding(self.src_tok_emb(src)* math.sqrt(self.emb_size))\n",
        "        tgt_emb = self.positional_encoding(self.tgt_tok_emb(trg)* math.sqrt(self.emb_size))\n",
        "        memory = self.transformer_encoder(src_emb, src_mask, src_padding_mask)\n",
        "        outs = self.transformer_decoder(tgt_emb, memory, tgt_mask, None,\n",
        "                                        tgt_padding_mask, memory_key_padding_mask)\n",
        "        return self.generator(outs)"
      ],
      "metadata": {
        "id": "XBWAdPbtxu-K"
      },
      "execution_count": null,
      "outputs": []
    },
    {
      "cell_type": "code",
      "source": [
        "model = TransformerModel(num_encoder_layers=6, nhead=8, num_decoder_layers=6,\n",
        "                 emb_size=512, src_vocab_size=(len(d.get_alphabet()) + 1), tgt_vocab_size=(len(d.get_alphabet()) + 1),\n",
        "                 dim_feedforward = 512, dropout = 0.2).to(device)"
      ],
      "metadata": {
        "colab": {
          "base_uri": "https://localhost:8080/"
        },
        "id": "tlwnT1T8EBV9",
        "outputId": "93649a91-02f0-439f-8158-ed4d91ee1d2b"
      },
      "execution_count": null,
      "outputs": [
        {
          "output_type": "stream",
          "name": "stderr",
          "text": [
            "/usr/local/lib/python3.11/dist-packages/torch/nn/modules/transformer.py:385: UserWarning: enable_nested_tensor is True, but self.use_nested_tensor is False because encoder_layer.self_attn.batch_first was not True(use batch_first for better inference performance)\n",
            "  warnings.warn(\n"
          ]
        }
      ]
    },
    {
      "cell_type": "code",
      "source": [
        "def train_epoch_transformer(model, train_loader, optimizer, criterion, batch_size):\n",
        "  model.train()\n",
        "  total_loss = 0\n",
        "  num_correct = 0\n",
        "  total_items = 0\n",
        "  for src, tgt in tqdm(train_loader):\n",
        "      src = src.to(device).T\n",
        "      tgt = tgt.to(device).T\n",
        "\n",
        "      tgt_input = tgt[:-1, :]\n",
        "\n",
        "      src_mask, tgt_mask, src_padding_mask, tgt_padding_mask = create_mask(src, tgt_input)\n",
        "\n",
        "      logits = model(src, tgt_input, src_mask, tgt_mask,\n",
        "                                src_padding_mask, tgt_padding_mask, src_padding_mask)\n",
        "\n",
        "      optimizer.zero_grad()\n",
        "\n",
        "      tgt_out = tgt[1:,:]\n",
        "      loss = criterion(logits.reshape(-1, logits.shape[-1]), tgt_out.reshape(-1))\n",
        "\n",
        "      loss.backward()\n",
        "      optimizer.step()\n",
        "\n",
        "      total_loss += loss.item()\n",
        "      total_items += (tgt_out != 0).sum(dim=(0,1))\n",
        "\n",
        "      num_correct += (torch.logical_and((logits.argmax(dim=2) == tgt_out), (tgt_out != 0))).sum(dim=(0,1))\n",
        "  return total_loss / len(train_loader), num_correct / total_items\n",
        "\n",
        "def test_epoch_transformer(model, test_loader, criterion, batch_size):\n",
        "  model.eval()\n",
        "  total_loss = 0\n",
        "  num_correct = 0\n",
        "  total_items = 0\n",
        "  for src, tgt in tqdm(train_loader):\n",
        "      src = src.to(device).T\n",
        "      tgt = tgt.to(device).T\n",
        "\n",
        "      tgt_input = tgt[:-1, :]\n",
        "\n",
        "      src_mask, tgt_mask, src_padding_mask, tgt_padding_mask = create_mask(src, tgt_input)\n",
        "\n",
        "      logits = model(src, tgt_input, src_mask, tgt_mask,\n",
        "                                src_padding_mask, tgt_padding_mask, src_padding_mask)\n",
        "\n",
        "\n",
        "      tgt_out = tgt[1:,:]\n",
        "      loss = criterion(logits.reshape(-1, logits.shape[-1]), tgt_out.reshape(-1))\n",
        "\n",
        "\n",
        "      total_loss += loss.item()\n",
        "      total_items += (tgt_out != 0).sum(dim=(0,1))\n",
        "\n",
        "      num_correct += (torch.logical_and((logits.argmax(dim=2) == tgt_out), (tgt_out != 0))).sum(dim=(0,1))\n",
        "  return total_loss / len(train_loader), num_correct / total_items"
      ],
      "metadata": {
        "id": "z7yE-9DpKspz"
      },
      "execution_count": null,
      "outputs": []
    },
    {
      "cell_type": "code",
      "source": [
        "def train_transformer(model, train_dataset, test_dataset, batch_size=32, epochs=100):\n",
        "  train_loader = torch.utils.data.DataLoader(train_dataset, batch_size=batch_size, shuffle=True)\n",
        "  test_loader = torch.utils.data.DataLoader(test_dataset, batch_size=batch_size, shuffle=True)\n",
        "  criterion = nn.CrossEntropyLoss()\n",
        "\n",
        "  optim = torch.optim.Adam(model.parameters(), lr=1e-4, betas=(0.9, 0.98), eps=1e-9)\n",
        "\n",
        "  for e in range(epochs):\n",
        "    train_loss, train_acc = train_epoch_transformer(model, train_loader, optim, criterion, batch_size=batch_size)\n",
        "    test_loss, test_acc = train_epoch_transformer(model, test_loader, optim, criterion, batch_size=batch_size)\n",
        "    print(f'Epoch: {e + 1} Training Loss: {train_loss} Training Accuracy: {train_acc} Test Loss: {test_loss} Test Accuracy: {test_acc}')"
      ],
      "metadata": {
        "id": "W4HlUxJlKvLl"
      },
      "execution_count": null,
      "outputs": []
    },
    {
      "cell_type": "code",
      "source": [
        "train_transformer(model,train_dataset, test_dataset)"
      ],
      "metadata": {
        "colab": {
          "base_uri": "https://localhost:8080/"
        },
        "id": "PvzJwOe5KwmV",
        "outputId": "d917779b-7d89-4cf9-db78-1c7c09ae045b"
      },
      "execution_count": null,
      "outputs": [
        {
          "output_type": "stream",
          "name": "stderr",
          "text": [
            "\r  0%|          | 0/15 [00:00<?, ?it/s]/usr/local/lib/python3.11/dist-packages/torch/nn/functional.py:5962: UserWarning: Support for mismatched key_padding_mask and attn_mask is deprecated. Use same type for both instead.\n",
            "  warnings.warn(\n",
            "100%|██████████| 15/15 [00:01<00:00, 13.73it/s]\n",
            "100%|██████████| 2/2 [00:00<00:00, 17.12it/s]\n"
          ]
        },
        {
          "output_type": "stream",
          "name": "stdout",
          "text": [
            "Epoch: 1 Training Loss: 1.7636406501134236 Training Accuracy: 0.0003537318843882531 Test Loss: 1.1341528594493866 Test Accuracy: 0.0\n"
          ]
        },
        {
          "output_type": "stream",
          "name": "stderr",
          "text": [
            "100%|██████████| 15/15 [00:01<00:00, 14.24it/s]\n",
            "100%|██████████| 2/2 [00:00<00:00, 17.32it/s]\n"
          ]
        },
        {
          "output_type": "stream",
          "name": "stdout",
          "text": [
            "Epoch: 2 Training Loss: 1.1200006524721782 Training Accuracy: 0.0 Test Loss: 0.9625139534473419 Test Accuracy: 0.0\n"
          ]
        },
        {
          "output_type": "stream",
          "name": "stderr",
          "text": [
            "100%|██████████| 15/15 [00:01<00:00, 14.24it/s]\n",
            "100%|██████████| 2/2 [00:00<00:00, 16.90it/s]\n"
          ]
        },
        {
          "output_type": "stream",
          "name": "stdout",
          "text": [
            "Epoch: 3 Training Loss: 0.7780845403671265 Training Accuracy: 0.10647329688072205 Test Loss: 0.6794078946113586 Test Accuracy: 0.2848101258277893\n"
          ]
        },
        {
          "output_type": "stream",
          "name": "stderr",
          "text": [
            "100%|██████████| 15/15 [00:01<00:00, 14.13it/s]\n",
            "100%|██████████| 2/2 [00:00<00:00, 17.31it/s]\n"
          ]
        },
        {
          "output_type": "stream",
          "name": "stdout",
          "text": [
            "Epoch: 4 Training Loss: 0.600431497891744 Training Accuracy: 0.3480721712112427 Test Loss: 0.5285531878471375 Test Accuracy: 0.37025317549705505\n"
          ]
        },
        {
          "output_type": "stream",
          "name": "stderr",
          "text": [
            "100%|██████████| 15/15 [00:01<00:00, 13.57it/s]\n",
            "100%|██████████| 2/2 [00:00<00:00, 15.67it/s]\n"
          ]
        },
        {
          "output_type": "stream",
          "name": "stdout",
          "text": [
            "Epoch: 5 Training Loss: 0.5014954576889674 Training Accuracy: 0.38910505175590515 Test Loss: 0.5376769751310349 Test Accuracy: 0.3765822649002075\n"
          ]
        },
        {
          "output_type": "stream",
          "name": "stderr",
          "text": [
            "100%|██████████| 15/15 [00:01<00:00, 13.36it/s]\n",
            "100%|██████████| 2/2 [00:00<00:00, 14.15it/s]\n"
          ]
        },
        {
          "output_type": "stream",
          "name": "stdout",
          "text": [
            "Epoch: 6 Training Loss: 0.4548841724793116 Training Accuracy: 0.44393348693847656 Test Loss: 0.5151402205228806 Test Accuracy: 0.3955696225166321\n"
          ]
        },
        {
          "output_type": "stream",
          "name": "stderr",
          "text": [
            "100%|██████████| 15/15 [00:01<00:00, 14.12it/s]\n",
            "100%|██████████| 2/2 [00:00<00:00, 17.36it/s]\n"
          ]
        },
        {
          "output_type": "stream",
          "name": "stdout",
          "text": [
            "Epoch: 7 Training Loss: 0.4545358161131541 Training Accuracy: 0.4867350459098816 Test Loss: 0.4469589740037918 Test Accuracy: 0.4556961953639984\n"
          ]
        },
        {
          "output_type": "stream",
          "name": "stderr",
          "text": [
            "100%|██████████| 15/15 [00:01<00:00, 14.21it/s]\n",
            "100%|██████████| 2/2 [00:00<00:00, 17.18it/s]\n"
          ]
        },
        {
          "output_type": "stream",
          "name": "stdout",
          "text": [
            "Epoch: 8 Training Loss: 0.40749405721823373 Training Accuracy: 0.508666455745697 Test Loss: 0.4501529335975647 Test Accuracy: 0.503164529800415\n"
          ]
        },
        {
          "output_type": "stream",
          "name": "stderr",
          "text": [
            "100%|██████████| 15/15 [00:01<00:00, 14.22it/s]\n",
            "100%|██████████| 2/2 [00:00<00:00, 16.42it/s]\n"
          ]
        },
        {
          "output_type": "stream",
          "name": "stdout",
          "text": [
            "Epoch: 9 Training Loss: 0.3860988179842631 Training Accuracy: 0.5472232103347778 Test Loss: 0.39351411163806915 Test Accuracy: 0.5063291192054749\n"
          ]
        },
        {
          "output_type": "stream",
          "name": "stderr",
          "text": [
            "100%|██████████| 15/15 [00:01<00:00, 14.16it/s]\n",
            "100%|██████████| 2/2 [00:00<00:00, 17.21it/s]\n"
          ]
        },
        {
          "output_type": "stream",
          "name": "stdout",
          "text": [
            "Epoch: 10 Training Loss: 0.36147660613059995 Training Accuracy: 0.5779978632926941 Test Loss: 0.3738846331834793 Test Accuracy: 0.5189873576164246\n"
          ]
        },
        {
          "output_type": "stream",
          "name": "stderr",
          "text": [
            "100%|██████████| 15/15 [00:01<00:00, 14.17it/s]\n",
            "100%|██████████| 2/2 [00:00<00:00, 17.18it/s]\n"
          ]
        },
        {
          "output_type": "stream",
          "name": "stdout",
          "text": [
            "Epoch: 11 Training Loss: 0.3577210485935211 Training Accuracy: 0.5808277130126953 Test Loss: 0.35955682396888733 Test Accuracy: 0.5917721390724182\n"
          ]
        },
        {
          "output_type": "stream",
          "name": "stderr",
          "text": [
            "100%|██████████| 15/15 [00:01<00:00, 14.14it/s]\n",
            "100%|██████████| 2/2 [00:00<00:00, 17.31it/s]\n"
          ]
        },
        {
          "output_type": "stream",
          "name": "stdout",
          "text": [
            "Epoch: 12 Training Loss: 0.32921397089958193 Training Accuracy: 0.6108949184417725 Test Loss: 0.3603157550096512 Test Accuracy: 0.5632911324501038\n"
          ]
        },
        {
          "output_type": "stream",
          "name": "stderr",
          "text": [
            "100%|██████████| 15/15 [00:01<00:00, 14.22it/s]\n",
            "100%|██████████| 2/2 [00:00<00:00, 17.09it/s]\n"
          ]
        },
        {
          "output_type": "stream",
          "name": "stdout",
          "text": [
            "Epoch: 13 Training Loss: 0.3302729686101278 Training Accuracy: 0.60523521900177 Test Loss: 0.39723385870456696 Test Accuracy: 0.5443037748336792\n"
          ]
        },
        {
          "output_type": "stream",
          "name": "stderr",
          "text": [
            "100%|██████████| 15/15 [00:01<00:00, 14.18it/s]\n",
            "100%|██████████| 2/2 [00:00<00:00, 17.06it/s]\n"
          ]
        },
        {
          "output_type": "stream",
          "name": "stdout",
          "text": [
            "Epoch: 14 Training Loss: 0.3048802465200424 Training Accuracy: 0.620445728302002 Test Loss: 0.31027017533779144 Test Accuracy: 0.5981012582778931\n"
          ]
        },
        {
          "output_type": "stream",
          "name": "stderr",
          "text": [
            "100%|██████████| 15/15 [00:01<00:00, 13.53it/s]\n",
            "100%|██████████| 2/2 [00:00<00:00, 13.89it/s]\n"
          ]
        },
        {
          "output_type": "stream",
          "name": "stdout",
          "text": [
            "Epoch: 15 Training Loss: 0.3081524521112442 Training Accuracy: 0.6452069282531738 Test Loss: 0.321362242102623 Test Accuracy: 0.607594907283783\n"
          ]
        },
        {
          "output_type": "stream",
          "name": "stderr",
          "text": [
            "100%|██████████| 15/15 [00:01<00:00, 13.38it/s]\n",
            "100%|██████████| 2/2 [00:00<00:00, 13.57it/s]\n"
          ]
        },
        {
          "output_type": "stream",
          "name": "stdout",
          "text": [
            "Epoch: 16 Training Loss: 0.3084881653388341 Training Accuracy: 0.6459143757820129 Test Loss: 0.30073346197605133 Test Accuracy: 0.6170886158943176\n"
          ]
        },
        {
          "output_type": "stream",
          "name": "stderr",
          "text": [
            "100%|██████████| 15/15 [00:01<00:00, 14.00it/s]\n",
            "100%|██████████| 2/2 [00:00<00:00, 17.30it/s]\n"
          ]
        },
        {
          "output_type": "stream",
          "name": "stdout",
          "text": [
            "Epoch: 17 Training Loss: 0.30950251122315725 Training Accuracy: 0.6416696310043335 Test Loss: 0.3003014326095581 Test Accuracy: 0.607594907283783\n"
          ]
        },
        {
          "output_type": "stream",
          "name": "stderr",
          "text": [
            "100%|██████████| 15/15 [00:01<00:00, 13.95it/s]\n",
            "100%|██████████| 2/2 [00:00<00:00, 16.73it/s]\n"
          ]
        },
        {
          "output_type": "stream",
          "name": "stdout",
          "text": [
            "Epoch: 18 Training Loss: 0.27910560369491577 Training Accuracy: 0.6529890298843384 Test Loss: 0.25348155200481415 Test Accuracy: 0.6613923907279968\n"
          ]
        },
        {
          "output_type": "stream",
          "name": "stderr",
          "text": [
            "100%|██████████| 15/15 [00:01<00:00, 14.06it/s]\n",
            "100%|██████████| 2/2 [00:00<00:00, 17.26it/s]\n"
          ]
        },
        {
          "output_type": "stream",
          "name": "stdout",
          "text": [
            "Epoch: 19 Training Loss: 0.25543903609116875 Training Accuracy: 0.6717368364334106 Test Loss: 0.2686879187822342 Test Accuracy: 0.6360759735107422\n"
          ]
        },
        {
          "output_type": "stream",
          "name": "stderr",
          "text": [
            "100%|██████████| 15/15 [00:01<00:00, 14.15it/s]\n",
            "100%|██████████| 2/2 [00:00<00:00, 16.25it/s]\n"
          ]
        },
        {
          "output_type": "stream",
          "name": "stdout",
          "text": [
            "Epoch: 20 Training Loss: 0.24829145272572836 Training Accuracy: 0.6706756353378296 Test Loss: 0.2854607328772545 Test Accuracy: 0.6202531456947327\n"
          ]
        },
        {
          "output_type": "stream",
          "name": "stderr",
          "text": [
            "100%|██████████| 15/15 [00:01<00:00, 14.19it/s]\n",
            "100%|██████████| 2/2 [00:00<00:00, 17.33it/s]\n"
          ]
        },
        {
          "output_type": "stream",
          "name": "stdout",
          "text": [
            "Epoch: 21 Training Loss: 0.2486149569352468 Training Accuracy: 0.6869472861289978 Test Loss: 0.2384543940424919 Test Accuracy: 0.6803797483444214\n"
          ]
        },
        {
          "output_type": "stream",
          "name": "stderr",
          "text": [
            "100%|██████████| 15/15 [00:01<00:00, 14.18it/s]\n",
            "100%|██████████| 2/2 [00:00<00:00, 17.26it/s]\n"
          ]
        },
        {
          "output_type": "stream",
          "name": "stdout",
          "text": [
            "Epoch: 22 Training Loss: 0.22806900689999263 Training Accuracy: 0.6947293877601624 Test Loss: 0.26191744208335876 Test Accuracy: 0.6518987417221069\n"
          ]
        },
        {
          "output_type": "stream",
          "name": "stderr",
          "text": [
            "100%|██████████| 15/15 [00:01<00:00, 14.19it/s]\n",
            "100%|██████████| 2/2 [00:00<00:00, 17.22it/s]\n"
          ]
        },
        {
          "output_type": "stream",
          "name": "stdout",
          "text": [
            "Epoch: 23 Training Loss: 0.22770930131276448 Training Accuracy: 0.702157735824585 Test Loss: 0.22885208576917648 Test Accuracy: 0.6803797483444214\n"
          ]
        },
        {
          "output_type": "stream",
          "name": "stderr",
          "text": [
            "100%|██████████| 15/15 [00:01<00:00, 14.18it/s]\n",
            "100%|██████████| 2/2 [00:00<00:00, 17.37it/s]\n"
          ]
        },
        {
          "output_type": "stream",
          "name": "stdout",
          "text": [
            "Epoch: 24 Training Loss: 0.21603461503982543 Training Accuracy: 0.7152458429336548 Test Loss: 0.21471550315618515 Test Accuracy: 0.702531635761261\n"
          ]
        },
        {
          "output_type": "stream",
          "name": "stderr",
          "text": [
            "100%|██████████| 15/15 [00:01<00:00, 13.64it/s]\n",
            "100%|██████████| 2/2 [00:00<00:00, 15.99it/s]\n"
          ]
        },
        {
          "output_type": "stream",
          "name": "stdout",
          "text": [
            "Epoch: 25 Training Loss: 0.21151464382807414 Training Accuracy: 0.7251503467559814 Test Loss: 0.2310900092124939 Test Accuracy: 0.6740506291389465\n"
          ]
        },
        {
          "output_type": "stream",
          "name": "stderr",
          "text": [
            "100%|██████████| 15/15 [00:01<00:00, 13.27it/s]\n",
            "100%|██████████| 2/2 [00:00<00:00, 13.37it/s]\n"
          ]
        },
        {
          "output_type": "stream",
          "name": "stdout",
          "text": [
            "Epoch: 26 Training Loss: 0.20736295282840728 Training Accuracy: 0.7293950915336609 Test Loss: 0.2160254269838333 Test Accuracy: 0.6835442781448364\n"
          ]
        },
        {
          "output_type": "stream",
          "name": "stderr",
          "text": [
            "100%|██████████| 15/15 [00:01<00:00, 13.93it/s]\n",
            "100%|██████████| 2/2 [00:00<00:00, 16.70it/s]\n"
          ]
        },
        {
          "output_type": "stream",
          "name": "stdout",
          "text": [
            "Epoch: 27 Training Loss: 0.19978972176710766 Training Accuracy: 0.7318712472915649 Test Loss: 0.19615165889263153 Test Accuracy: 0.7405063509941101\n"
          ]
        },
        {
          "output_type": "stream",
          "name": "stderr",
          "text": [
            "100%|██████████| 15/15 [00:01<00:00, 14.15it/s]\n",
            "100%|██████████| 2/2 [00:00<00:00, 17.12it/s]\n"
          ]
        },
        {
          "output_type": "stream",
          "name": "stdout",
          "text": [
            "Epoch: 28 Training Loss: 0.2096669554710388 Training Accuracy: 0.746020495891571 Test Loss: 0.18347736448049545 Test Accuracy: 0.7215189933776855\n"
          ]
        },
        {
          "output_type": "stream",
          "name": "stderr",
          "text": [
            "100%|██████████| 15/15 [00:01<00:00, 14.27it/s]\n",
            "100%|██████████| 2/2 [00:00<00:00, 17.32it/s]\n"
          ]
        },
        {
          "output_type": "stream",
          "name": "stdout",
          "text": [
            "Epoch: 29 Training Loss: 0.1950877959529559 Training Accuracy: 0.7262115478515625 Test Loss: 0.19249065965414047 Test Accuracy: 0.7183544039726257\n"
          ]
        },
        {
          "output_type": "stream",
          "name": "stderr",
          "text": [
            "100%|██████████| 15/15 [00:01<00:00, 14.19it/s]\n",
            "100%|██████████| 2/2 [00:00<00:00, 16.68it/s]\n"
          ]
        },
        {
          "output_type": "stream",
          "name": "stdout",
          "text": [
            "Epoch: 30 Training Loss: 0.18378318051497142 Training Accuracy: 0.7576936483383179 Test Loss: 0.18232107162475586 Test Accuracy: 0.746835470199585\n"
          ]
        },
        {
          "output_type": "stream",
          "name": "stderr",
          "text": [
            "100%|██████████| 15/15 [00:01<00:00, 14.16it/s]\n",
            "100%|██████████| 2/2 [00:00<00:00, 16.95it/s]\n"
          ]
        },
        {
          "output_type": "stream",
          "name": "stdout",
          "text": [
            "Epoch: 31 Training Loss: 0.1716981366276741 Training Accuracy: 0.7640608549118042 Test Loss: 0.16852500289678574 Test Accuracy: 0.7626582384109497\n"
          ]
        },
        {
          "output_type": "stream",
          "name": "stderr",
          "text": [
            "100%|██████████| 15/15 [00:01<00:00, 14.21it/s]\n",
            "100%|██████████| 2/2 [00:00<00:00, 16.33it/s]\n"
          ]
        },
        {
          "output_type": "stream",
          "name": "stdout",
          "text": [
            "Epoch: 32 Training Loss: 0.1677375207344691 Training Accuracy: 0.7679519057273865 Test Loss: 0.18842300027608871 Test Accuracy: 0.7436708807945251\n"
          ]
        },
        {
          "output_type": "stream",
          "name": "stderr",
          "text": [
            "100%|██████████| 15/15 [00:01<00:00, 14.16it/s]\n",
            "100%|██████████| 2/2 [00:00<00:00, 17.22it/s]\n"
          ]
        },
        {
          "output_type": "stream",
          "name": "stdout",
          "text": [
            "Epoch: 33 Training Loss: 0.17807841102282207 Training Accuracy: 0.7665369510650635 Test Loss: 0.16814687103033066 Test Accuracy: 0.7689873576164246\n"
          ]
        },
        {
          "output_type": "stream",
          "name": "stderr",
          "text": [
            "100%|██████████| 15/15 [00:01<00:00, 14.22it/s]\n",
            "100%|██████████| 2/2 [00:00<00:00, 17.14it/s]\n"
          ]
        },
        {
          "output_type": "stream",
          "name": "stdout",
          "text": [
            "Epoch: 34 Training Loss: 0.16024058510859807 Training Accuracy: 0.7817474603652954 Test Loss: 0.16155903786420822 Test Accuracy: 0.7816455960273743\n"
          ]
        },
        {
          "output_type": "stream",
          "name": "stderr",
          "text": [
            "100%|██████████| 15/15 [00:01<00:00, 13.48it/s]\n",
            "100%|██████████| 2/2 [00:00<00:00, 14.33it/s]\n"
          ]
        },
        {
          "output_type": "stream",
          "name": "stdout",
          "text": [
            "Epoch: 35 Training Loss: 0.15654378930727642 Training Accuracy: 0.7852847576141357 Test Loss: 0.15131421759724617 Test Accuracy: 0.8354430198669434\n"
          ]
        },
        {
          "output_type": "stream",
          "name": "stderr",
          "text": [
            "100%|██████████| 15/15 [00:01<00:00, 13.16it/s]\n",
            "100%|██████████| 2/2 [00:00<00:00, 13.26it/s]\n"
          ]
        },
        {
          "output_type": "stream",
          "name": "stdout",
          "text": [
            "Epoch: 36 Training Loss: 0.14912796318531035 Training Accuracy: 0.7824549078941345 Test Loss: 0.1444828286767006 Test Accuracy: 0.7784810066223145\n"
          ]
        },
        {
          "output_type": "stream",
          "name": "stderr",
          "text": [
            "100%|██████████| 15/15 [00:01<00:00, 14.00it/s]\n",
            "100%|██████████| 2/2 [00:00<00:00, 16.56it/s]\n"
          ]
        },
        {
          "output_type": "stream",
          "name": "stdout",
          "text": [
            "Epoch: 37 Training Loss: 0.15130898555119832 Training Accuracy: 0.7997877597808838 Test Loss: 0.14540113136172295 Test Accuracy: 0.8354430198669434\n"
          ]
        },
        {
          "output_type": "stream",
          "name": "stderr",
          "text": [
            "100%|██████████| 15/15 [00:01<00:00, 14.21it/s]\n",
            "100%|██████████| 2/2 [00:00<00:00, 16.56it/s]\n"
          ]
        },
        {
          "output_type": "stream",
          "name": "stdout",
          "text": [
            "Epoch: 38 Training Loss: 0.14201646149158478 Training Accuracy: 0.7955429553985596 Test Loss: 0.1301439180970192 Test Accuracy: 0.797468364238739\n"
          ]
        },
        {
          "output_type": "stream",
          "name": "stderr",
          "text": [
            "100%|██████████| 15/15 [00:01<00:00, 14.23it/s]\n",
            "100%|██████████| 2/2 [00:00<00:00, 16.94it/s]\n"
          ]
        },
        {
          "output_type": "stream",
          "name": "stdout",
          "text": [
            "Epoch: 39 Training Loss: 0.1352076053619385 Training Accuracy: 0.8132295608520508 Test Loss: 0.12227135896682739 Test Accuracy: 0.8322784900665283\n"
          ]
        },
        {
          "output_type": "stream",
          "name": "stderr",
          "text": [
            "100%|██████████| 15/15 [00:01<00:00, 14.19it/s]\n",
            "100%|██████████| 2/2 [00:00<00:00, 17.14it/s]\n"
          ]
        },
        {
          "output_type": "stream",
          "name": "stdout",
          "text": [
            "Epoch: 40 Training Loss: 0.13421365122000375 Training Accuracy: 0.8192430138587952 Test Loss: 0.126407440751791 Test Accuracy: 0.8544303774833679\n"
          ]
        },
        {
          "output_type": "stream",
          "name": "stderr",
          "text": [
            "100%|██████████| 15/15 [00:01<00:00, 14.19it/s]\n",
            "100%|██████████| 2/2 [00:00<00:00, 17.48it/s]\n"
          ]
        },
        {
          "output_type": "stream",
          "name": "stdout",
          "text": [
            "Epoch: 41 Training Loss: 0.1323437293370565 Training Accuracy: 0.8111071586608887 Test Loss: 0.1124887578189373 Test Accuracy: 0.8417721390724182\n"
          ]
        },
        {
          "output_type": "stream",
          "name": "stderr",
          "text": [
            "100%|██████████| 15/15 [00:01<00:00, 14.22it/s]\n",
            "100%|██████████| 2/2 [00:00<00:00, 15.69it/s]\n"
          ]
        },
        {
          "output_type": "stream",
          "name": "stdout",
          "text": [
            "Epoch: 42 Training Loss: 0.13040104508399963 Training Accuracy: 0.8277325630187988 Test Loss: 0.12003499269485474 Test Accuracy: 0.8196202516555786\n"
          ]
        },
        {
          "output_type": "stream",
          "name": "stderr",
          "text": [
            "100%|██████████| 15/15 [00:01<00:00, 14.29it/s]\n",
            "100%|██████████| 2/2 [00:00<00:00, 16.28it/s]\n"
          ]
        },
        {
          "output_type": "stream",
          "name": "stdout",
          "text": [
            "Epoch: 43 Training Loss: 0.12362907081842422 Training Accuracy: 0.8344534635543823 Test Loss: 0.1212119348347187 Test Accuracy: 0.8227847814559937\n"
          ]
        },
        {
          "output_type": "stream",
          "name": "stderr",
          "text": [
            "100%|██████████| 15/15 [00:01<00:00, 14.27it/s]\n",
            "100%|██████████| 2/2 [00:00<00:00, 17.16it/s]\n"
          ]
        },
        {
          "output_type": "stream",
          "name": "stdout",
          "text": [
            "Epoch: 44 Training Loss: 0.1129241148630778 Training Accuracy: 0.8411743640899658 Test Loss: 0.11526673287153244 Test Accuracy: 0.8544303774833679\n"
          ]
        },
        {
          "output_type": "stream",
          "name": "stderr",
          "text": [
            "100%|██████████| 15/15 [00:01<00:00, 13.72it/s]\n",
            "100%|██████████| 2/2 [00:00<00:00, 15.07it/s]\n"
          ]
        },
        {
          "output_type": "stream",
          "name": "stdout",
          "text": [
            "Epoch: 45 Training Loss: 0.11894912570714951 Training Accuracy: 0.8461266160011292 Test Loss: 0.10455360263586044 Test Accuracy: 0.844936728477478\n"
          ]
        },
        {
          "output_type": "stream",
          "name": "stderr",
          "text": [
            "100%|██████████| 15/15 [00:01<00:00, 13.17it/s]\n",
            "100%|██████████| 2/2 [00:00<00:00, 13.84it/s]\n"
          ]
        },
        {
          "output_type": "stream",
          "name": "stdout",
          "text": [
            "Epoch: 46 Training Loss: 0.13032147884368897 Training Accuracy: 0.8280863165855408 Test Loss: 0.1126636229455471 Test Accuracy: 0.8797468543052673\n"
          ]
        },
        {
          "output_type": "stream",
          "name": "stderr",
          "text": [
            "100%|██████████| 15/15 [00:01<00:00, 14.01it/s]\n",
            "100%|██████████| 2/2 [00:00<00:00, 17.08it/s]\n"
          ]
        },
        {
          "output_type": "stream",
          "name": "stdout",
          "text": [
            "Epoch: 47 Training Loss: 0.12111741751432419 Training Accuracy: 0.8425893187522888 Test Loss: 0.10914091020822525 Test Accuracy: 0.8670886158943176\n"
          ]
        },
        {
          "output_type": "stream",
          "name": "stderr",
          "text": [
            "100%|██████████| 15/15 [00:01<00:00, 14.28it/s]\n",
            "100%|██████████| 2/2 [00:00<00:00, 17.46it/s]\n"
          ]
        },
        {
          "output_type": "stream",
          "name": "stdout",
          "text": [
            "Epoch: 48 Training Loss: 0.11237291942040126 Training Accuracy: 0.8524938225746155 Test Loss: 0.09231944382190704 Test Accuracy: 0.8892405033111572\n"
          ]
        },
        {
          "output_type": "stream",
          "name": "stderr",
          "text": [
            "100%|██████████| 15/15 [00:01<00:00, 14.30it/s]\n",
            "100%|██████████| 2/2 [00:00<00:00, 16.90it/s]\n"
          ]
        },
        {
          "output_type": "stream",
          "name": "stdout",
          "text": [
            "Epoch: 49 Training Loss: 0.1012232132256031 Training Accuracy: 0.8623983263969421 Test Loss: 0.11598848924040794 Test Accuracy: 0.8512658476829529\n"
          ]
        },
        {
          "output_type": "stream",
          "name": "stderr",
          "text": [
            "100%|██████████| 15/15 [00:01<00:00, 14.28it/s]\n",
            "100%|██████████| 2/2 [00:00<00:00, 16.65it/s]\n"
          ]
        },
        {
          "output_type": "stream",
          "name": "stdout",
          "text": [
            "Epoch: 50 Training Loss: 0.09848604102929433 Training Accuracy: 0.8761938214302063 Test Loss: 0.10062927380204201 Test Accuracy: 0.8702531456947327\n"
          ]
        },
        {
          "output_type": "stream",
          "name": "stderr",
          "text": [
            "100%|██████████| 15/15 [00:01<00:00, 14.24it/s]\n",
            "100%|██████████| 2/2 [00:00<00:00, 17.20it/s]\n"
          ]
        },
        {
          "output_type": "stream",
          "name": "stdout",
          "text": [
            "Epoch: 51 Training Loss: 0.096525144080321 Training Accuracy: 0.8747789263725281 Test Loss: 0.08414621278643608 Test Accuracy: 0.8987341523170471\n"
          ]
        },
        {
          "output_type": "stream",
          "name": "stderr",
          "text": [
            "100%|██████████| 15/15 [00:01<00:00, 14.33it/s]\n",
            "100%|██████████| 2/2 [00:00<00:00, 16.49it/s]\n"
          ]
        },
        {
          "output_type": "stream",
          "name": "stdout",
          "text": [
            "Epoch: 52 Training Loss: 0.10778210759162903 Training Accuracy: 0.8687654733657837 Test Loss: 0.10394179821014404 Test Accuracy: 0.8607594966888428\n"
          ]
        },
        {
          "output_type": "stream",
          "name": "stderr",
          "text": [
            "100%|██████████| 15/15 [00:01<00:00, 14.22it/s]\n",
            "100%|██████████| 2/2 [00:00<00:00, 17.45it/s]\n"
          ]
        },
        {
          "output_type": "stream",
          "name": "stdout",
          "text": [
            "Epoch: 53 Training Loss: 0.09158030537267527 Training Accuracy: 0.8684117197990417 Test Loss: 0.08006657660007477 Test Accuracy: 0.892405092716217\n"
          ]
        },
        {
          "output_type": "stream",
          "name": "stderr",
          "text": [
            "100%|██████████| 15/15 [00:01<00:00, 14.21it/s]\n",
            "100%|██████████| 2/2 [00:00<00:00, 17.02it/s]\n"
          ]
        },
        {
          "output_type": "stream",
          "name": "stdout",
          "text": [
            "Epoch: 54 Training Loss: 0.08537267769376437 Training Accuracy: 0.8910505771636963 Test Loss: 0.08198797330260277 Test Accuracy: 0.8892405033111572\n"
          ]
        },
        {
          "output_type": "stream",
          "name": "stderr",
          "text": [
            "100%|██████████| 15/15 [00:01<00:00, 13.83it/s]\n",
            "100%|██████████| 2/2 [00:00<00:00, 15.35it/s]\n"
          ]
        },
        {
          "output_type": "stream",
          "name": "stdout",
          "text": [
            "Epoch: 55 Training Loss: 0.08394771069288254 Training Accuracy: 0.8942341804504395 Test Loss: 0.07259756699204445 Test Accuracy: 0.9145569801330566\n"
          ]
        },
        {
          "output_type": "stream",
          "name": "stderr",
          "text": [
            "100%|██████████| 15/15 [00:01<00:00, 13.35it/s]\n",
            "100%|██████████| 2/2 [00:00<00:00, 13.07it/s]\n"
          ]
        },
        {
          "output_type": "stream",
          "name": "stdout",
          "text": [
            "Epoch: 56 Training Loss: 0.08602552736798923 Training Accuracy: 0.8899893760681152 Test Loss: 0.07028179988265038 Test Accuracy: 0.9082278609275818\n"
          ]
        },
        {
          "output_type": "stream",
          "name": "stderr",
          "text": [
            "100%|██████████| 15/15 [00:01<00:00, 14.06it/s]\n",
            "100%|██████████| 2/2 [00:00<00:00, 17.43it/s]\n"
          ]
        },
        {
          "output_type": "stream",
          "name": "stdout",
          "text": [
            "Epoch: 57 Training Loss: 0.08465000713864962 Training Accuracy: 0.8977714776992798 Test Loss: 0.07572223991155624 Test Accuracy: 0.8955696225166321\n"
          ]
        },
        {
          "output_type": "stream",
          "name": "stderr",
          "text": [
            "100%|██████████| 15/15 [00:01<00:00, 14.22it/s]\n",
            "100%|██████████| 2/2 [00:00<00:00, 17.38it/s]\n"
          ]
        },
        {
          "output_type": "stream",
          "name": "stdout",
          "text": [
            "Epoch: 58 Training Loss: 0.0774790920317173 Training Accuracy: 0.888574481010437 Test Loss: 0.07657942175865173 Test Accuracy: 0.9018987417221069\n"
          ]
        },
        {
          "output_type": "stream",
          "name": "stderr",
          "text": [
            "100%|██████████| 15/15 [00:01<00:00, 14.24it/s]\n",
            "100%|██████████| 2/2 [00:00<00:00, 17.10it/s]\n"
          ]
        },
        {
          "output_type": "stream",
          "name": "stdout",
          "text": [
            "Epoch: 59 Training Loss: 0.07027409076690674 Training Accuracy: 0.9087371826171875 Test Loss: 0.06872427649796009 Test Accuracy: 0.9082278609275818\n"
          ]
        },
        {
          "output_type": "stream",
          "name": "stderr",
          "text": [
            "100%|██████████| 15/15 [00:01<00:00, 14.21it/s]\n",
            "100%|██████████| 2/2 [00:00<00:00, 17.16it/s]\n"
          ]
        },
        {
          "output_type": "stream",
          "name": "stdout",
          "text": [
            "Epoch: 60 Training Loss: 0.06632997654378414 Training Accuracy: 0.9115670323371887 Test Loss: 0.05863911285996437 Test Accuracy: 0.9367088675498962\n"
          ]
        },
        {
          "output_type": "stream",
          "name": "stderr",
          "text": [
            "100%|██████████| 15/15 [00:01<00:00, 14.25it/s]\n",
            "100%|██████████| 2/2 [00:00<00:00, 16.34it/s]\n"
          ]
        },
        {
          "output_type": "stream",
          "name": "stdout",
          "text": [
            "Epoch: 61 Training Loss: 0.07044944216807683 Training Accuracy: 0.9133356809616089 Test Loss: 0.0587503369897604 Test Accuracy: 0.9335442781448364\n"
          ]
        },
        {
          "output_type": "stream",
          "name": "stderr",
          "text": [
            "100%|██████████| 15/15 [00:01<00:00, 14.24it/s]\n",
            "100%|██████████| 2/2 [00:00<00:00, 16.12it/s]\n"
          ]
        },
        {
          "output_type": "stream",
          "name": "stdout",
          "text": [
            "Epoch: 62 Training Loss: 0.07872462769349416 Training Accuracy: 0.9122744798660278 Test Loss: 0.06111224927008152 Test Accuracy: 0.9240506291389465\n"
          ]
        },
        {
          "output_type": "stream",
          "name": "stderr",
          "text": [
            "100%|██████████| 15/15 [00:01<00:00, 14.21it/s]\n",
            "100%|██████████| 2/2 [00:00<00:00, 17.04it/s]\n"
          ]
        },
        {
          "output_type": "stream",
          "name": "stdout",
          "text": [
            "Epoch: 63 Training Loss: 0.06323813771208127 Training Accuracy: 0.9147506356239319 Test Loss: 0.061677346006035805 Test Accuracy: 0.9208860993385315\n"
          ]
        },
        {
          "output_type": "stream",
          "name": "stderr",
          "text": [
            "100%|██████████| 15/15 [00:01<00:00, 14.16it/s]\n",
            "100%|██████████| 2/2 [00:00<00:00, 16.87it/s]\n"
          ]
        },
        {
          "output_type": "stream",
          "name": "stdout",
          "text": [
            "Epoch: 64 Training Loss: 0.058186422040065126 Training Accuracy: 0.9225327372550964 Test Loss: 0.05337911285459995 Test Accuracy: 0.9208860993385315\n"
          ]
        },
        {
          "output_type": "stream",
          "name": "stderr",
          "text": [
            "100%|██████████| 15/15 [00:01<00:00, 13.78it/s]\n",
            "100%|██████████| 2/2 [00:00<00:00, 15.01it/s]\n"
          ]
        },
        {
          "output_type": "stream",
          "name": "stdout",
          "text": [
            "Epoch: 65 Training Loss: 0.059198230504989624 Training Accuracy: 0.9306685328483582 Test Loss: 0.048712434247136116 Test Accuracy: 0.9367088675498962\n"
          ]
        },
        {
          "output_type": "stream",
          "name": "stderr",
          "text": [
            "100%|██████████| 15/15 [00:01<00:00, 13.36it/s]\n",
            "100%|██████████| 2/2 [00:00<00:00, 13.55it/s]\n"
          ]
        },
        {
          "output_type": "stream",
          "name": "stdout",
          "text": [
            "Epoch: 66 Training Loss: 0.05814261039098104 Training Accuracy: 0.928899884223938 Test Loss: 0.04844902828335762 Test Accuracy: 0.9272152185440063\n"
          ]
        },
        {
          "output_type": "stream",
          "name": "stderr",
          "text": [
            "100%|██████████| 15/15 [00:01<00:00, 13.88it/s]\n",
            "100%|██████████| 2/2 [00:00<00:00, 17.15it/s]\n"
          ]
        },
        {
          "output_type": "stream",
          "name": "stdout",
          "text": [
            "Epoch: 67 Training Loss: 0.06543823989729086 Training Accuracy: 0.9055535793304443 Test Loss: 0.05839039944112301 Test Accuracy: 0.9240506291389465\n"
          ]
        },
        {
          "output_type": "stream",
          "name": "stderr",
          "text": [
            "100%|██████████| 15/15 [00:01<00:00, 14.14it/s]\n",
            "100%|██████████| 2/2 [00:00<00:00, 14.79it/s]\n"
          ]
        },
        {
          "output_type": "stream",
          "name": "stdout",
          "text": [
            "Epoch: 68 Training Loss: 0.05727504349003235 Training Accuracy: 0.9197028875350952 Test Loss: 0.06743132136762142 Test Accuracy: 0.9367088675498962\n"
          ]
        },
        {
          "output_type": "stream",
          "name": "stderr",
          "text": [
            "100%|██████████| 15/15 [00:01<00:00, 14.24it/s]\n",
            "100%|██████████| 2/2 [00:00<00:00, 17.07it/s]\n"
          ]
        },
        {
          "output_type": "stream",
          "name": "stdout",
          "text": [
            "Epoch: 69 Training Loss: 0.05177913755178452 Training Accuracy: 0.9366819858551025 Test Loss: 0.04250246845185757 Test Accuracy: 0.9430379867553711\n"
          ]
        },
        {
          "output_type": "stream",
          "name": "stderr",
          "text": [
            "100%|██████████| 15/15 [00:01<00:00, 14.22it/s]\n",
            "100%|██████████| 2/2 [00:00<00:00, 17.20it/s]\n"
          ]
        },
        {
          "output_type": "stream",
          "name": "stdout",
          "text": [
            "Epoch: 70 Training Loss: 0.05380632268885772 Training Accuracy: 0.9292536377906799 Test Loss: 0.04736972972750664 Test Accuracy: 0.9398733973503113\n"
          ]
        },
        {
          "output_type": "stream",
          "name": "stderr",
          "text": [
            "100%|██████████| 15/15 [00:01<00:00, 14.12it/s]\n",
            "100%|██████████| 2/2 [00:00<00:00, 17.22it/s]\n"
          ]
        },
        {
          "output_type": "stream",
          "name": "stdout",
          "text": [
            "Epoch: 71 Training Loss: 0.04790613353252411 Training Accuracy: 0.9366819858551025 Test Loss: 0.046591656282544136 Test Accuracy: 0.9367088675498962\n"
          ]
        },
        {
          "output_type": "stream",
          "name": "stderr",
          "text": [
            "100%|██████████| 15/15 [00:01<00:00, 14.21it/s]\n",
            "100%|██████████| 2/2 [00:00<00:00, 17.00it/s]\n"
          ]
        },
        {
          "output_type": "stream",
          "name": "stdout",
          "text": [
            "Epoch: 72 Training Loss: 0.052671687801678975 Training Accuracy: 0.944817841053009 Test Loss: 0.052089957520365715 Test Accuracy: 0.9335442781448364\n"
          ]
        },
        {
          "output_type": "stream",
          "name": "stderr",
          "text": [
            "100%|██████████| 15/15 [00:01<00:00, 14.17it/s]\n",
            "100%|██████████| 2/2 [00:00<00:00, 17.16it/s]\n"
          ]
        },
        {
          "output_type": "stream",
          "name": "stdout",
          "text": [
            "Epoch: 73 Training Loss: 0.053204167758425076 Training Accuracy: 0.9257162809371948 Test Loss: 0.03957880288362503 Test Accuracy: 0.9462025165557861\n"
          ]
        },
        {
          "output_type": "stream",
          "name": "stderr",
          "text": [
            "100%|██████████| 15/15 [00:01<00:00, 14.20it/s]\n",
            "100%|██████████| 2/2 [00:00<00:00, 16.53it/s]\n"
          ]
        },
        {
          "output_type": "stream",
          "name": "stdout",
          "text": [
            "Epoch: 74 Training Loss: 0.04531989221771558 Training Accuracy: 0.9426954388618469 Test Loss: 0.04356049560010433 Test Accuracy: 0.9556962251663208\n"
          ]
        },
        {
          "output_type": "stream",
          "name": "stderr",
          "text": [
            "100%|██████████| 15/15 [00:01<00:00, 13.59it/s]\n",
            "100%|██████████| 2/2 [00:00<00:00, 15.46it/s]\n"
          ]
        },
        {
          "output_type": "stream",
          "name": "stdout",
          "text": [
            "Epoch: 75 Training Loss: 0.0420336705322067 Training Accuracy: 0.9451715350151062 Test Loss: 0.045106375589966774 Test Accuracy: 0.9335442781448364\n"
          ]
        },
        {
          "output_type": "stream",
          "name": "stderr",
          "text": [
            "100%|██████████| 15/15 [00:01<00:00, 13.45it/s]\n",
            "100%|██████████| 2/2 [00:00<00:00, 13.22it/s]\n"
          ]
        },
        {
          "output_type": "stream",
          "name": "stdout",
          "text": [
            "Epoch: 76 Training Loss: 0.0395398985594511 Training Accuracy: 0.9487088918685913 Test Loss: 0.043181187473237514 Test Accuracy: 0.9303797483444214\n"
          ]
        },
        {
          "output_type": "stream",
          "name": "stderr",
          "text": [
            "100%|██████████| 15/15 [00:01<00:00, 13.84it/s]\n",
            "100%|██████████| 2/2 [00:00<00:00, 17.34it/s]\n"
          ]
        },
        {
          "output_type": "stream",
          "name": "stdout",
          "text": [
            "Epoch: 77 Training Loss: 0.04299579386909803 Training Accuracy: 0.9441103935241699 Test Loss: 0.03557945601642132 Test Accuracy: 0.949367105960846\n"
          ]
        },
        {
          "output_type": "stream",
          "name": "stderr",
          "text": [
            "100%|██████████| 15/15 [00:01<00:00, 14.16it/s]\n",
            "100%|██████████| 2/2 [00:00<00:00, 17.24it/s]\n"
          ]
        },
        {
          "output_type": "stream",
          "name": "stdout",
          "text": [
            "Epoch: 78 Training Loss: 0.047601404661933584 Training Accuracy: 0.9334983825683594 Test Loss: 0.04886174947023392 Test Accuracy: 0.9462025165557861\n"
          ]
        },
        {
          "output_type": "stream",
          "name": "stderr",
          "text": [
            "100%|██████████| 15/15 [00:01<00:00, 14.21it/s]\n",
            "100%|██████████| 2/2 [00:00<00:00, 17.16it/s]\n"
          ]
        },
        {
          "output_type": "stream",
          "name": "stdout",
          "text": [
            "Epoch: 79 Training Loss: 0.046068937455614405 Training Accuracy: 0.9391581416130066 Test Loss: 0.0564511064440012 Test Accuracy: 0.9398733973503113\n"
          ]
        },
        {
          "output_type": "stream",
          "name": "stderr",
          "text": [
            "100%|██████████| 15/15 [00:01<00:00, 14.16it/s]\n",
            "100%|██████████| 2/2 [00:00<00:00, 16.32it/s]\n"
          ]
        },
        {
          "output_type": "stream",
          "name": "stdout",
          "text": [
            "Epoch: 80 Training Loss: 0.04246805347502232 Training Accuracy: 0.9412804841995239 Test Loss: 0.04563616216182709 Test Accuracy: 0.9430379867553711\n"
          ]
        },
        {
          "output_type": "stream",
          "name": "stderr",
          "text": [
            "100%|██████████| 15/15 [00:01<00:00, 14.22it/s]\n",
            "100%|██████████| 2/2 [00:00<00:00, 17.30it/s]\n"
          ]
        },
        {
          "output_type": "stream",
          "name": "stdout",
          "text": [
            "Epoch: 81 Training Loss: 0.04057946366568407 Training Accuracy: 0.9554297924041748 Test Loss: 0.028259780257940292 Test Accuracy: 0.9683544039726257\n"
          ]
        },
        {
          "output_type": "stream",
          "name": "stderr",
          "text": [
            "100%|██████████| 15/15 [00:01<00:00, 14.21it/s]\n",
            "100%|██████████| 2/2 [00:00<00:00, 17.03it/s]\n"
          ]
        },
        {
          "output_type": "stream",
          "name": "stdout",
          "text": [
            "Epoch: 82 Training Loss: 0.03979699518531561 Training Accuracy: 0.9441103935241699 Test Loss: 0.046445487067103386 Test Accuracy: 0.9303797483444214\n"
          ]
        },
        {
          "output_type": "stream",
          "name": "stderr",
          "text": [
            "100%|██████████| 15/15 [00:01<00:00, 14.24it/s]\n",
            "100%|██████████| 2/2 [00:00<00:00, 17.51it/s]\n"
          ]
        },
        {
          "output_type": "stream",
          "name": "stdout",
          "text": [
            "Epoch: 83 Training Loss: 0.03847205638885498 Training Accuracy: 0.9579058885574341 Test Loss: 0.042465053498744965 Test Accuracy: 0.949367105960846\n"
          ]
        },
        {
          "output_type": "stream",
          "name": "stderr",
          "text": [
            "100%|██████████| 15/15 [00:01<00:00, 14.26it/s]\n",
            "100%|██████████| 2/2 [00:00<00:00, 17.25it/s]\n"
          ]
        },
        {
          "output_type": "stream",
          "name": "stdout",
          "text": [
            "Epoch: 84 Training Loss: 0.04001989979296923 Training Accuracy: 0.9497700929641724 Test Loss: 0.041662732139229774 Test Accuracy: 0.949367105960846\n"
          ]
        },
        {
          "output_type": "stream",
          "name": "stderr",
          "text": [
            "100%|██████████| 15/15 [00:01<00:00, 13.79it/s]\n",
            "100%|██████████| 2/2 [00:00<00:00, 15.96it/s]\n"
          ]
        },
        {
          "output_type": "stream",
          "name": "stdout",
          "text": [
            "Epoch: 85 Training Loss: 0.03402865367631117 Training Accuracy: 0.9600282907485962 Test Loss: 0.030021014623343945 Test Accuracy: 0.9683544039726257\n"
          ]
        },
        {
          "output_type": "stream",
          "name": "stderr",
          "text": [
            "100%|██████████| 15/15 [00:01<00:00, 13.46it/s]\n",
            "100%|██████████| 2/2 [00:00<00:00, 13.54it/s]\n"
          ]
        },
        {
          "output_type": "stream",
          "name": "stdout",
          "text": [
            "Epoch: 86 Training Loss: 0.02684358318025867 Training Accuracy: 0.9681641459465027 Test Loss: 0.02789481356739998 Test Accuracy: 0.9556962251663208\n"
          ]
        },
        {
          "output_type": "stream",
          "name": "stderr",
          "text": [
            "100%|██████████| 15/15 [00:01<00:00, 13.96it/s]\n",
            "100%|██████████| 2/2 [00:00<00:00, 17.42it/s]\n"
          ]
        },
        {
          "output_type": "stream",
          "name": "stdout",
          "text": [
            "Epoch: 87 Training Loss: 0.025873734119037786 Training Accuracy: 0.9695790410041809 Test Loss: 0.026994275860488415 Test Accuracy: 0.9778481125831604\n"
          ]
        },
        {
          "output_type": "stream",
          "name": "stderr",
          "text": [
            "100%|██████████| 15/15 [00:01<00:00, 14.28it/s]\n",
            "100%|██████████| 2/2 [00:00<00:00, 17.34it/s]\n"
          ]
        },
        {
          "output_type": "stream",
          "name": "stdout",
          "text": [
            "Epoch: 88 Training Loss: 0.025507727637887 Training Accuracy: 0.9678103923797607 Test Loss: 0.030624384991824627 Test Accuracy: 0.9556962251663208\n"
          ]
        },
        {
          "output_type": "stream",
          "name": "stderr",
          "text": [
            "100%|██████████| 15/15 [00:01<00:00, 14.22it/s]\n",
            "100%|██████████| 2/2 [00:00<00:00, 17.16it/s]\n"
          ]
        },
        {
          "output_type": "stream",
          "name": "stdout",
          "text": [
            "Epoch: 89 Training Loss: 0.02915816828608513 Training Accuracy: 0.9646267890930176 Test Loss: 0.03128221724182367 Test Accuracy: 0.9588607549667358\n"
          ]
        },
        {
          "output_type": "stream",
          "name": "stderr",
          "text": [
            "100%|██████████| 15/15 [00:01<00:00, 14.22it/s]\n",
            "100%|██████████| 2/2 [00:00<00:00, 17.47it/s]\n"
          ]
        },
        {
          "output_type": "stream",
          "name": "stdout",
          "text": [
            "Epoch: 90 Training Loss: 0.03255258407443762 Training Accuracy: 0.9536611437797546 Test Loss: 0.03141890373080969 Test Accuracy: 0.9398733973503113\n"
          ]
        },
        {
          "output_type": "stream",
          "name": "stderr",
          "text": [
            "100%|██████████| 15/15 [00:01<00:00, 14.28it/s]\n",
            "100%|██████████| 2/2 [00:00<00:00, 17.34it/s]\n"
          ]
        },
        {
          "output_type": "stream",
          "name": "stdout",
          "text": [
            "Epoch: 91 Training Loss: 0.030202143515149753 Training Accuracy: 0.9579058885574341 Test Loss: 0.023282965645194054 Test Accuracy: 0.9683544039726257\n"
          ]
        },
        {
          "output_type": "stream",
          "name": "stderr",
          "text": [
            "100%|██████████| 15/15 [00:01<00:00, 14.30it/s]\n",
            "100%|██████████| 2/2 [00:00<00:00, 15.99it/s]\n"
          ]
        },
        {
          "output_type": "stream",
          "name": "stdout",
          "text": [
            "Epoch: 92 Training Loss: 0.02663003218670686 Training Accuracy: 0.9653342962265015 Test Loss: 0.01994427852332592 Test Accuracy: 0.9746835231781006\n"
          ]
        },
        {
          "output_type": "stream",
          "name": "stderr",
          "text": [
            "100%|██████████| 15/15 [00:01<00:00, 14.33it/s]\n",
            "100%|██████████| 2/2 [00:00<00:00, 17.36it/s]\n"
          ]
        },
        {
          "output_type": "stream",
          "name": "stdout",
          "text": [
            "Epoch: 93 Training Loss: 0.026248214580118657 Training Accuracy: 0.9639193415641785 Test Loss: 0.021221749018877745 Test Accuracy: 0.9715189933776855\n"
          ]
        },
        {
          "output_type": "stream",
          "name": "stderr",
          "text": [
            "100%|██████████| 15/15 [00:01<00:00, 14.26it/s]\n",
            "100%|██████████| 2/2 [00:00<00:00, 17.56it/s]\n"
          ]
        },
        {
          "output_type": "stream",
          "name": "stdout",
          "text": [
            "Epoch: 94 Training Loss: 0.024216497130692006 Training Accuracy: 0.9656879901885986 Test Loss: 0.020702285692095757 Test Accuracy: 0.9715189933776855\n"
          ]
        },
        {
          "output_type": "stream",
          "name": "stderr",
          "text": [
            "100%|██████████| 15/15 [00:01<00:00, 13.87it/s]\n",
            "100%|██████████| 2/2 [00:00<00:00, 14.86it/s]\n"
          ]
        },
        {
          "output_type": "stream",
          "name": "stdout",
          "text": [
            "Epoch: 95 Training Loss: 0.0259569825604558 Training Accuracy: 0.9639193415641785 Test Loss: 0.026517481543123722 Test Accuracy: 0.9556962251663208\n"
          ]
        },
        {
          "output_type": "stream",
          "name": "stderr",
          "text": [
            "100%|██████████| 15/15 [00:01<00:00, 13.61it/s]\n",
            "100%|██████████| 2/2 [00:00<00:00, 14.23it/s]\n"
          ]
        },
        {
          "output_type": "stream",
          "name": "stdout",
          "text": [
            "Epoch: 96 Training Loss: 0.02926748382548491 Training Accuracy: 0.9667491912841797 Test Loss: 0.023091770708560944 Test Accuracy: 0.9651898741722107\n"
          ]
        },
        {
          "output_type": "stream",
          "name": "stderr",
          "text": [
            "100%|██████████| 15/15 [00:01<00:00, 13.90it/s]\n",
            "100%|██████████| 2/2 [00:00<00:00, 17.24it/s]\n"
          ]
        },
        {
          "output_type": "stream",
          "name": "stdout",
          "text": [
            "Epoch: 97 Training Loss: 0.03820722190042337 Training Accuracy: 0.9515387415885925 Test Loss: 0.03663494065403938 Test Accuracy: 0.9588607549667358\n"
          ]
        },
        {
          "output_type": "stream",
          "name": "stderr",
          "text": [
            "100%|██████████| 15/15 [00:01<00:00, 14.32it/s]\n",
            "100%|██████████| 2/2 [00:00<00:00, 16.82it/s]\n"
          ]
        },
        {
          "output_type": "stream",
          "name": "stdout",
          "text": [
            "Epoch: 98 Training Loss: 0.02349249434967836 Training Accuracy: 0.9699327945709229 Test Loss: 0.021861808374524117 Test Accuracy: 0.9683544039726257\n"
          ]
        },
        {
          "output_type": "stream",
          "name": "stderr",
          "text": [
            "100%|██████████| 15/15 [00:01<00:00, 14.25it/s]\n",
            "100%|██████████| 2/2 [00:00<00:00, 17.27it/s]\n"
          ]
        },
        {
          "output_type": "stream",
          "name": "stdout",
          "text": [
            "Epoch: 99 Training Loss: 0.01900718950976928 Training Accuracy: 0.9784223437309265 Test Loss: 0.016292295651510358 Test Accuracy: 0.9810126423835754\n"
          ]
        },
        {
          "output_type": "stream",
          "name": "stderr",
          "text": [
            "100%|██████████| 15/15 [00:01<00:00, 14.30it/s]\n",
            "100%|██████████| 2/2 [00:00<00:00, 17.53it/s]"
          ]
        },
        {
          "output_type": "stream",
          "name": "stdout",
          "text": [
            "Epoch: 100 Training Loss: 0.01901131837318341 Training Accuracy: 0.9787760972976685 Test Loss: 0.01650015451014042 Test Accuracy: 0.9715189933776855\n"
          ]
        },
        {
          "output_type": "stream",
          "name": "stderr",
          "text": [
            "\n"
          ]
        }
      ]
    }
  ],
  "metadata": {
    "accelerator": "GPU",
    "colab": {
      "gpuType": "T4",
      "provenance": []
    },
    "kernelspec": {
      "display_name": "Python 3",
      "name": "python3"
    },
    "language_info": {
      "name": "python"
    }
  },
  "nbformat": 4,
  "nbformat_minor": 0
}
